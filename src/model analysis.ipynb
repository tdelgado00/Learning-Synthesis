{
 "cells": [
  {
   "cell_type": "code",
   "execution_count": 1,
   "metadata": {},
   "outputs": [],
   "source": [
    "# Analyzing models output"
   ]
  },
  {
   "cell_type": "markdown",
   "metadata": {},
   "source": [
    "## Avg Q during training"
   ]
  },
  {
   "cell_type": "code",
   "execution_count": 3,
   "metadata": {},
   "outputs": [
    {
     "ename": "NameError",
     "evalue": "name 'plt' is not defined",
     "output_type": "error",
     "traceback": [
      "\u001b[0;31m---------------------------------------------------------------------------\u001b[0m",
      "\u001b[0;31mNameError\u001b[0m                                 Traceback (most recent call last)",
      "\u001b[0;32m<ipython-input-3-eb2d35e2ae52>\u001b[0m in \u001b[0;36m<module>\u001b[0;34m\u001b[0m\n\u001b[1;32m      3\u001b[0m \u001b[0mfiles\u001b[0m \u001b[0;34m=\u001b[0m \u001b[0;34m[\u001b[0m\u001b[0;34m\"focused_1\"\u001b[0m\u001b[0;34m,\u001b[0m \u001b[0;34m\"visits\"\u001b[0m\u001b[0;34m]\u001b[0m\u001b[0;34m\u001b[0m\u001b[0;34m\u001b[0m\u001b[0m\n\u001b[1;32m      4\u001b[0m \u001b[0;34m\u001b[0m\u001b[0m\n\u001b[0;32m----> 5\u001b[0;31m \u001b[0mf\u001b[0m\u001b[0;34m,\u001b[0m \u001b[0maxs\u001b[0m \u001b[0;34m=\u001b[0m \u001b[0mplt\u001b[0m\u001b[0;34m.\u001b[0m\u001b[0msubplots\u001b[0m\u001b[0;34m(\u001b[0m\u001b[0;36m1\u001b[0m\u001b[0;34m,\u001b[0m \u001b[0mlen\u001b[0m\u001b[0;34m(\u001b[0m\u001b[0mused_problems\u001b[0m\u001b[0;34m)\u001b[0m\u001b[0;34m,\u001b[0m \u001b[0mfigsize\u001b[0m\u001b[0;34m=\u001b[0m\u001b[0;34m(\u001b[0m\u001b[0;36m5\u001b[0m\u001b[0;34m*\u001b[0m\u001b[0mlen\u001b[0m\u001b[0;34m(\u001b[0m\u001b[0mused_problems\u001b[0m\u001b[0;34m)\u001b[0m\u001b[0;34m,\u001b[0m \u001b[0;36m6\u001b[0m\u001b[0;34m)\u001b[0m\u001b[0;34m)\u001b[0m\u001b[0;34m\u001b[0m\u001b[0;34m\u001b[0m\u001b[0m\n\u001b[0m\u001b[1;32m      6\u001b[0m \u001b[0;34m\u001b[0m\u001b[0m\n\u001b[1;32m      7\u001b[0m \u001b[0;32mfor\u001b[0m \u001b[0mi\u001b[0m \u001b[0;32min\u001b[0m \u001b[0mrange\u001b[0m\u001b[0;34m(\u001b[0m\u001b[0mlen\u001b[0m\u001b[0;34m(\u001b[0m\u001b[0mused_problems\u001b[0m\u001b[0;34m)\u001b[0m\u001b[0;34m)\u001b[0m\u001b[0;34m:\u001b[0m\u001b[0;34m\u001b[0m\u001b[0;34m\u001b[0m\u001b[0m\n",
      "\u001b[0;31mNameError\u001b[0m: name 'plt' is not defined"
     ]
    }
   ],
   "source": [
    "used_problems = [\"AT\", \"BW\", \"CM\", \"DP\", \"TA\", \"TL\"]\n",
    "\n",
    "files = [\"focused_1\", \"visits\"]\n",
    "\n",
    "f, axs = plt.subplots(1, len(used_problems), figsize=(5*len(used_problems), 6))\n",
    "\n",
    "for i in range(len(used_problems)):\n",
    "    dfs = []\n",
    "    for file in files:\n",
    "        dfs.append(pd.read_csv(\"experiments/results/\"+filename([used_problems[i], n, k])+\"/\"+file+\"/q.csv\"))\n",
    "        dfs[-1][\"file\"] = file\n",
    "    df = pd.concat(dfs, ignore_index=True)\n",
    "    df[\"avg q\"] = -df[\"avg q\"]\n",
    "    sns.lineplot(data = df, x=\"training steps\", y=\"avg q\", hue=\"file\", ax=axs[i])\n",
    "    \n",
    "    axs[i].set_title(problems[i])\n",
    "\n",
    "#plt.savefig(\"experiments/figures/q.jpg\", dpi=200)\n",
    "plt.show()"
   ]
  },
  {
   "cell_type": "code",
   "execution_count": null,
   "metadata": {},
   "outputs": [],
   "source": [
    "from sklearn.linear_model import LinearRegression\n",
    "from sklearn.feature_selection import f_regression\n",
    "from sklearn.feature_selection import VarianceThreshold\n",
    "from statsmodels.regression.linear_model import OLS\n",
    "from sklearn.metrics import explained_variance_score\n",
    "from sklearn.metrics import r2_score\n",
    "from scipy.stats import linregress\n",
    "\n",
    "a = 0\n",
    "def plot_q_and_pred(m, df_features, features, problem):\n",
    "    print(problem, m.rank_, m.intercept_)\n",
    "    print(m.coef_)\n",
    "    print(m.score(df_features[features], df_features[\"q\"]))\n",
    "    print(df_features[\"q\"].min(), df_features[\"q\"].max())\n",
    "    df_features[\"pred\"] = m.predict(df_features[features])\n",
    "    df_features[\"pred\"].plot(kind=\"hist\")\n",
    "    plt.title((\"pred\", problem))\n",
    "    plt.show()\n",
    "    plt.title(\"q\")\n",
    "    df_features[\"q\"].plot(kind=\"hist\")\n",
    "    plt.title((\"q\", problem))\n",
    "    plt.show()\n",
    "\n",
    "def plot_features(problem, n, k, dir):\n",
    "    df_features = pd.read_csv(\"experiments/results/\"+filename([problem, n, k])+\"/\"+dir+\"/best.csv\")\n",
    "    \n",
    "    features = feature_names(get_agent_info(agent_path(filename([problem, n, k]) + \"/\" + file, 0)), problem)\n",
    "    #print(features)\n",
    "    #m = LinearRegression()\n",
    "    #m.fit(df_features[features], df_features[\"q\"])\n",
    "    #plot_q_and_pred(m, df_features, features, problem)\n",
    "    \n",
    "    constant_filter = VarianceThreshold(threshold=0)\n",
    "    constant_filter.fit(df_features[features])\n",
    "    constant_columns = [column for column in df_features[features].columns if column not in df_features[features].columns[constant_filter.get_support()]]\n",
    "    print(\"Constant columns: \", constant_columns)\n",
    "    X = df_features[features].loc[:, constant_filter.get_support()]\n",
    "    #fvalues, pvalues = f_regression(X, df_features[\"q\"])\n",
    "    #print(fvalues.shape, pvalues.shape)\n",
    "    # df_features[\"q\"] = (df_features[\"q\"] - df_features[\"q\"].mean()) / df_features[\"q\"].std()\n",
    "    #m = OLS(df_features[\"q\"], X)\n",
    "    #r = m.fit()\n",
    "    score = []\n",
    "    for f in X.columns:\n",
    "        #slope, intercept, r_value, p_value, std_err = linregress(df_features[\"q\"], X[f])\n",
    "        #score.append(r_value**2)\n",
    "        x = np.array(df_features[\"q\"])\n",
    "        y = np.array(X[f])\n",
    "        score.append(np.corrcoef(x, y)[0, 1]**2)\n",
    "    #print(r.params)\n",
    "    plt.xticks(ha='right', rotation=55, fontsize=6)\n",
    "    sns.barplot(x=X.columns, y=score)\n",
    "    #sns.barplot(x=X.columns, y=r.params)\n",
    "    plt.title((problem, n, k))\n",
    "    plt.savefig(\"experiments/figures/visits/features/\"+filename([\"features\", file, problem])+\".jpg\", dpi=400, bbox_inches=\"tight\")\n",
    "    plt.tight_layout()\n",
    "    plt.show()\n",
    "    \n",
    "\n",
    "problems = [\"AT\", \"BW\", \"CM\", \"DP\", \"TA\", \"TL\"]\n",
    "#file = \"5mill_JE20\"\n",
    "#problems = [\"AT\", \"BW\", \"DP\", \"TA\"]\n",
    "file = \"visits\"\n",
    "for problem, n, k in [(x, 2, 2) for x in problems]:\n",
    "    plot_features(problem, n, k, file)"
   ]
  },
  {
   "cell_type": "markdown",
   "metadata": {},
   "source": [
    "## Q Distribution"
   ]
  },
  {
   "cell_type": "code",
   "execution_count": null,
   "metadata": {},
   "outputs": [],
   "source": [
    "from sklearn.linear_model import LinearRegression\n",
    "\n",
    "def plot_features(problem, n, k, file, q_file):\n",
    "    df = pd.read_csv(\"experiments/results/\"+filename([problem, n, k])+\"/\"+file+\"/\"+q_file+\".csv\")\n",
    "    df[\"q\"].plot(kind='hist')\n",
    "    print(df[\"q\"].min(), df[\"q\"].mean(), df[\"q\"].max())\n",
    "    plt.title((problem, n, k, q_file))\n",
    "    #plt.savefig(\"experiments/figures/2h/\"+t+\"_features/\"+filename([problem, n, k, t, ra_feature])+\".jpg\", dpi=200, bbox_inches=\"tight\")\n",
    "    plt.tight_layout()\n",
    "    plt.show()\n",
    "    \n",
    "\n",
    "problems = [\"AT\", \"TA\", \"DP\"]\n",
    "n, k = 2, 2\n",
    "for problem in problems:\n",
    "    plot_features(problem, n, k, \"focused_1\", q_file=\"best\")\n",
    "    plot_features(problem, n, k, \"focused_1\", q_file=\"best_4_4\")"
   ]
  },
  {
   "cell_type": "markdown",
   "metadata": {},
   "source": [
    "## Feature distribution"
   ]
  },
  {
   "cell_type": "code",
   "execution_count": null,
   "metadata": {},
   "outputs": [],
   "source": [
    "features = {\n",
    "            \"ra feature\": True,\n",
    "            \"context features\": True,\n",
    "            \"labels\": True,\n",
    "            \"state labels\": True,\n",
    "            \"je feature\": True,\n",
    "            \"nk feature\": True,\n",
    "            \"prop feature\": True,\n",
    "            \"visits feature\": True\n",
    "        }\n",
    "\n",
    "n = 2\n",
    "states_file = \"states_visits.pkl\"\n",
    "dfs = []\n",
    "problems = [\"AT\", \"BW\", \"DP\", \"TA\", \"TL\", \"CM\"]\n",
    "for problem in problems:\n",
    "    features = feature_names({f: True for f in features}, problem)\n",
    "    df = {name: [] for name in features}\n",
    "    with open(\"experiments/results/\"+filename([problem, n, n])+\"/\"+states_file, \"rb\") as f:\n",
    "        states = pickle.load(f)\n",
    "    for s in states:\n",
    "        for a in s:\n",
    "            for i in range(len(features)):\n",
    "                df[features[i]].append(a[i])\n",
    "    df = pd.DataFrame(df)\n",
    "    df[\"problem\"] = problem\n",
    "    dfs.append(df)\n",
    "\n",
    "df = pd.concat(dfs, ignore_index=True)"
   ]
  },
  {
   "cell_type": "code",
   "execution_count": null,
   "metadata": {},
   "outputs": [],
   "source": [
    "for problem in problems:\n",
    "    print(problem)\n",
    "    dfp = df.loc[df[\"problem\"] == problem]\n",
    "    print(dfp[\"in PG ancestors\"].value_counts())\n"
   ]
  },
  {
   "cell_type": "code",
   "execution_count": null,
   "metadata": {},
   "outputs": [],
   "source": [
    "problem = \"AT\"\n",
    "dfp = df.loc[df[\"problem\"] == problem]\n",
    "print(dfp.columns)\n",
    "features = feature_names({f: True for f in [\"visits feature\", \"prop feature\"]}, problem)\n",
    "print(features)\n",
    "#print(dfp[\"in PG ancestors\"].value_counts())\n",
    "for name in features[-10:]:\n",
    "    dfp[name].plot(kind='hist')\n",
    "    plt.title((name, problem))\n",
    "    plt.show()"
   ]
  },
  {
   "cell_type": "code",
   "execution_count": 2,
   "metadata": {},
   "outputs": [],
   "source": [
    "## Analyzing nn weights"
   ]
  },
  {
   "cell_type": "code",
   "execution_count": null,
   "metadata": {},
   "outputs": [],
   "source": [
    "import onnx\n",
    "from onnx import numpy_helper\n",
    "\n",
    "weights = []\n",
    "for idx in range(100):\n",
    "    onnx_model = onnx.load(\"experiments/results/AT_3_3/5mill/\" + str(idx)+\".onnx\")\n",
    "    INTIALIZERS  = onnx_model.graph.initializer\n",
    "    onnx_weights = {}\n",
    "    for initializer in INTIALIZERS:\n",
    "        W = numpy_helper.to_array(initializer)\n",
    "        onnx_weights[initializer.name] = W\n",
    "    w = onnx_weights[\"coefficient\"]\n",
    "    if True:\n",
    "        for key, value in onnx_weights.items():\n",
    "            if key == \"coefficient1\":\n",
    "                print(key, value.min(), value.max())\n",
    "    for feature in range(w.shape[0]):\n",
    "        for node in range(w.shape[1]):\n",
    "            weights.append({\"t\": idx, \"val\": w[feature, node], \"feature\": feature, \"node\": node})\n",
    "    \n",
    "weights = pd.DataFrame(weights)"
   ]
  },
  {
   "cell_type": "code",
   "execution_count": null,
   "metadata": {},
   "outputs": [],
   "source": [
    "for feature in range(23):\n",
    "    print(feature_names({\"ra feature\": True}, \"AT\")[feature])\n",
    "    df = weights.loc[weights[\"feature\"] == feature]\n",
    "    sns.lineplot(data=df, x=\"t\", y=\"val\", hue=\"node\")\n",
    "    plt.show()"
   ]
  }
 ],
 "metadata": {
  "kernelspec": {
   "display_name": "Python 3.9.5 64-bit",
   "language": "python",
   "name": "python3"
  },
  "language_info": {
   "codemirror_mode": {
    "name": "ipython",
    "version": 3
   },
   "file_extension": ".py",
   "mimetype": "text/x-python",
   "name": "python",
   "nbconvert_exporter": "python",
   "pygments_lexer": "ipython3",
   "version": "3.9.5"
  },
  "orig_nbformat": 4,
  "vscode": {
   "interpreter": {
    "hash": "916dbcbb3f70747c44a77c7bcd40155683ae19c65e1c03b4aa3499c5328201f1"
   }
  }
 },
 "nbformat": 4,
 "nbformat_minor": 2
}
