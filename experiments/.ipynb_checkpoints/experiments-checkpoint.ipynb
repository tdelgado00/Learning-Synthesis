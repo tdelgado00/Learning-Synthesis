{
 "cells": [
  {
   "cell_type": "code",
   "execution_count": 1,
   "id": "postal-salvation",
   "metadata": {},
   "outputs": [],
   "source": [
    "import numpy as np\n",
    "import pandas as pd\n",
    "import matplotlib.pyplot as plt\n",
    "import seaborn as sns\n",
    "from prettytable import PrettyTable\n",
    "import pprint\n",
    "import pickle\n",
    "import json\n",
    "import os, sys\n",
    "os.chdir(\"../\")\n",
    "sys.path.append('src/')\n",
    "from util import *"
   ]
  },
  {
   "cell_type": "code",
   "execution_count": 2,
   "id": "pleasant-lincoln",
   "metadata": {},
   "outputs": [],
   "source": [
    "def get_problem_data(algorithm, heuristic=None):\n",
    "    df = pd.DataFrame()\n",
    "    for problem in [\"TA\", \"TL\", \"AT\", \"BW\", \"CM\", \"DP\"]:\n",
    "        curr_df = pd.read_csv(\"experiments/results/ResultsPaper/\" + problem + \"_mejorado.csv\")\n",
    "        curr_df = curr_df.loc[(curr_df[\"controllerType\"] == algorithm) &\n",
    "                              (heuristic is None or curr_df[\"heuristic\"] == heuristic)]\n",
    "        df = df.append(curr_df)\n",
    "    df[\"testcase\"] = df[\"testcase\"].apply(lambda t: t.split(\"-\"))\n",
    "    df[\"testcase\"] = df[\"testcase\"].apply(lambda t: (t[0], int(t[1]), int(t[2])))\n",
    "    df = df.set_index(\"testcase\").to_dict()\n",
    "    return df\n",
    "\n",
    "monolithic_results = get_problem_data(\"mono\")[\"expandedTransitions\"]\n",
    "ra_results = {}\n",
    "for problem in [\"AT\", \"TA\", \"TL\", \"DP\", \"BW\", \"CM\"]:\n",
    "    df = pd.read_csv(\"experiments/results/\"+filename([problem, 2, 2])+\"/all_ra_afterfix_15.csv\")\n",
    "    ra_results[problem] = df.pivot(\"n\", \"k\", \"expanded transitions\")"
   ]
  },
  {
   "cell_type": "code",
   "execution_count": null,
   "id": "given-necklace",
   "metadata": {},
   "outputs": [],
   "source": [
    "def plot_ra_expanded_transitions(problem, n, k, norm=False, label=\"RA\", color=\"r\"):\n",
    "    ra = ra_results[problem][n][k]\n",
    "    mono = monolithic_results[(problem, n, k)]\n",
    "    # print(ra, mono, ra/mono)\n",
    "    if norm:\n",
    "        plt.text(5, ra/mono, \"RA\")\n",
    "        plt.axhline(y=ra/mono, color=color, linestyle='-', label=label)\n",
    "    else:\n",
    "        plt.text(5, ra, \"RA\")\n",
    "        plt.axhline(y=ra, color=color, linestyle='-', label=label)\n",
    "    \n",
    "def df_preprocess(df, base):\n",
    "    df[\"rounded training time\"] = df[\"training time\"] // base * base\n",
    "    df[\"avg q\"] = -df[\"avg q\"]\n",
    "    df[\"total transitions\"] = df.apply(lambda r: monolithic_results[(r[\"problem\"], r[\"n\"], r[\"k\"])], axis=1)\n",
    "    df[\"expanded transitions / total\"] = df[\"expanded transitions\"] / df[\"total transitions\"]\n",
    "    df[\"instance\"] = df.apply((lambda r: (r[\"problem\"], r[\"n\"], r[\"k\"])), axis=1)"
   ]
  },
  {
   "cell_type": "code",
   "execution_count": null,
   "id": "binding-university",
   "metadata": {},
   "outputs": [],
   "source": [
    "print(ra_results[\"AT\"][4][4])"
   ]
  },
  {
   "cell_type": "markdown",
   "id": "educational-german",
   "metadata": {},
   "source": [
    "# All problems"
   ]
  },
  {
   "cell_type": "code",
   "execution_count": null,
   "id": "blind-inflation",
   "metadata": {},
   "outputs": [],
   "source": [
    "def plot_generalization(df, x=\"training time\"):\n",
    "    plot_ra_expanded_transitions(df[\"problem\"].iloc[0], 2, 2, norm=True, color=\"r\", label=None)\n",
    "    plot_ra_expanded_transitions(df[\"problem\"].iloc[0], 3, 3, norm=True, color=\"b\", label=None)\n",
    "    sns.lineplot(data=df, x=x, y=\"expanded transitions / total\", hue=\"instance\", palette=[\"r\", \"b\"], ci=None)\n",
    "    plt.xlabel(x, fontsize=14)\n",
    "    plt.ylabel(\"expanded transitions / total\", fontsize=14)\n",
    "    plt.title(\" \".join([problem, str(n), str(k)]))\n",
    "    plt.ylim((0, 1))\n",
    "    plt.tight_layout()\n",
    "\n",
    "def plot_3_3(df):\n",
    "    plot_ra_expanded_transitions(df[\"problem\"].iloc[0], 3, 3, norm=True, color=\"b\", label=None)\n",
    "    sns.lineplot(data=df.loc[df[\"n\"] == 3], x=\"rounded training time\", y=\"expanded transitions / total\", color=\"b\", ci=None)\n",
    "    plt.xlabel(\"training time\", fontsize=14)\n",
    "    plt.ylabel(\"expanded transitions / total\", fontsize=14)\n",
    "    #plt.title(\" \".join([problem, str(n), str(k)]))\n",
    "    plt.ylim((0, 1))\n",
    "    plt.tight_layout()\n",
    "    plt.savefig(\"experiments/figures/trans_3_3/\"+filename([problem, n, k, \"trans_3_3\"])+\".png\", dpi=200)\n",
    "    plt.show()    \n",
    "\n",
    "def plot_2_2(df):\n",
    "    plot_ra_expanded_transitions(df[\"problem\"].iloc[0], 2, 2, norm=True, color=\"r\", label=None)\n",
    "    sns.lineplot(data=df.loc[df[\"n\"] == 2], x=\"rounded training time\", y=\"expanded transitions / total\", color=\"r\", ci=None)\n",
    "    plt.xlabel(\"training time\", fontsize=14)\n",
    "    plt.ylabel(\"expanded transitions / total\", fontsize=14)\n",
    "    #plt.title(\" \".join([problem, str(n), str(k)]))\n",
    "    plt.ylim((0, 1))\n",
    "    plt.tight_layout()\n",
    "    plt.savefig(\"experiments/figures/trans_2_2/\"+filename([problem, n, k, \"trans_2_2\"])+\".png\", dpi=200)\n",
    "    plt.show()  \n",
    "    \n",
    "def plot_q(df):\n",
    "    df2_2 = df.loc[df[\"n\"] == 2]\n",
    "    sns.lineplot(data=df2_2, x=\"rounded training time\", y=\"expanded transitions\", label=\"test\")\n",
    "    sns.lineplot(data=df2_2, x=\"rounded training time\", y=\"avg q\", label=\"avg q\")\n",
    "    plt.xlabel(\"training time\")\n",
    "    plt.title(\" \".join([problem, str(n), str(k)]))\n",
    "    plt.tight_layout()\n",
    "    plt.savefig(\"experiments/figures/q/\"+filename([problem, n, k, \"q\"])+\".jpg\", dpi=200)\n",
    "    plt.show()\n",
    "    \n",
    "def plot_features(df, features, ra_feature, dir=None):\n",
    "    df2_2 = df.loc[df[\"n\"] == 2]\n",
    "    fig = plt.figure(figsize=(10, 5), dpi=200)\n",
    "    for feature in features:\n",
    "        df2_2[feature] = -df2_2[feature]\n",
    "        sns.lineplot(data=df2_2, x=\"rounded training time\", y=feature, label=feature)\n",
    "    \n",
    "    plt.xlabel(\"training time\")\n",
    "    plt.title((problem, n, k, ra_feature))\n",
    "    plt.tight_layout()\n",
    "    if dir is not None:\n",
    "        plt.savefig(\"experiments/figures/\"+dir+\"/features evolution/\"+filename([problem, n, k, ra_feature])+\".jpg\", dpi=200)\n",
    "    plt.show()\n",
    "    \n",
    "def plot_features_best(df, ra_feature, n, dir=None, last=False):\n",
    "    names = feature_names(ra_feature)\n",
    "    df = df.loc[df[\"n\"] == n]\n",
    "    if last:\n",
    "        idx = df[\"idx\"].max()\n",
    "    else:\n",
    "        idx = df.loc[df[\"expanded transitions\"] == df[\"expanded transitions\"].min()][\"idx\"].iloc[0]\n",
    "    features = dict(-df.loc[df[\"idx\"] == idx].iloc[0][names])\n",
    "    \n",
    "    fig = plt.figure(figsize=(10, 6), dpi=200)\n",
    "    plt.bar(x=features.keys(), height=features.values(), width=0.3)\n",
    "    plt.xticks(ha='right', rotation=55, fontsize=10)\n",
    "    plt.title((problem, n, n, \"idx = \"+str(idx)))\n",
    "    plt.tight_layout()\n",
    "    if dir is not None:\n",
    "        plt.savefig(\"experiments/figures/\"+dir+\"/best_features/\"+filename([problem, n, n, ra_feature])+\".jpg\", dpi=200)\n",
    "    plt.show()\n",
    "    \n",
    "def plot_comparison(df1, df2, n, x, y, dir=None):\n",
    "    df = pd.concat([df1, df2], ignore_index=True)\n",
    "    \n",
    "    if y == \"expanded transitions / total\":\n",
    "        plot_ra_expanded_transitions(df[\"problem\"].iloc[0], n, n, norm=True, color=\"r\", label=None)\n",
    "    elif y == \"expanded transitions\":\n",
    "        plot_ra_expanded_transitions(df[\"problem\"].iloc[0], n, n, norm=False, color=\"r\", label=None)\n",
    "    \n",
    "    sns.lineplot(data=df.loc[df[\"n\"] == n], x=x, y=y, hue=\"features\", color=\"r\", ci=None)\n",
    "    \n",
    "    plt.xlabel(\"training time\")\n",
    "    plt.title(\" \".join([problem, str(n), str(n)]))\n",
    "    plt.tight_layout()\n",
    "    if dir is not None:\n",
    "        plt.savefig(\"experiments/figures/\"+dir+\"/\"+filename([problem, n, n, \"comp\"])+\".jpg\", dpi=200)\n",
    "    \n",
    "    "
   ]
  },
  {
   "cell_type": "code",
   "execution_count": null,
   "id": "mature-pixel",
   "metadata": {},
   "outputs": [],
   "source": [
    "problems = [\"AT\", \"TA\", \"TL\", \"DP\", \"BW\", \"CM\"]\n",
    "for problem, n, k in [(x, 2, 2) for x in problems]:\n",
    "    df1 = pd.read_csv(\"experiments/results/\"+filename([problem, n, k])+\"/ra_feature_2h.csv\")\n",
    "    df2 = pd.read_csv(\"experiments/results/\"+filename([problem, n, k])+\"/base_features_2h.csv\")\n",
    "    df_preprocess(df1, 300)\n",
    "    df_preprocess(df2, 300)\n",
    "    df1[\"features\"] = \"with ra\"\n",
    "    df2[\"features\"] = \"without ra\"\n",
    "    print(problem)\n",
    "    #plot_features(df1, feature_names(True), True, dir=\"3_3\")\n",
    "    #plot_features(df2, feature_names(False), False, dir=\"3_3\")\n",
    "    \n",
    "    #plot_features_best(df1, True, 2, dir=\"3_3\", last=True)\n",
    "    #plot_features_best(df2, False, 2, dir=\"3_3\", last=True)\n",
    "    \n",
    "    #plot_comparison(df1, df2, 2, \"rounded training time\", \"avg q\", dir=\"3_3/q\")\n",
    "    print(df1[\"training steps\"].max())\n",
    "    print(df2[\"training steps\"].max())\n",
    "    print(df1.shape, df2.shape)\n",
    "    \n",
    "    "
   ]
  },
  {
   "cell_type": "markdown",
   "id": "dominant-steal",
   "metadata": {},
   "source": [
    "## Training complexity"
   ]
  },
  {
   "cell_type": "code",
   "execution_count": null,
   "id": "nearby-wealth",
   "metadata": {},
   "outputs": [],
   "source": [
    "problems = [\"AT\", \"TA\", \"TL\", \"DP\", \"BW\"]\n",
    "for problem, n, k in [(x, 2, 2) for x in problems]:\n",
    "    df1 = pd.read_csv(\"experiments/results/\"+filename([problem, n, k])+\"/ra_feature.csv\")\n",
    "    df2 = pd.read_csv(\"experiments/results/\"+filename([problem, n, k])+\"/base_features.csv\")\n",
    "    df3 = pd.read_csv(\"experiments/results 25 mar/\"+filename([problem, n, k])+\"/10m_0.csv\")\n",
    "    df_preprocess(df1)\n",
    "    df_preprocess(df2)\n",
    "    df_preprocess(df3)\n",
    "    df1[\"features\"] = \"with ra\"\n",
    "    df2[\"features\"] = \"without ra\"\n",
    "    df3[\"features\"] = \"without ra old\"\n",
    "    df = pd.concat([df1, df2, df3], ignore_index=True)\n",
    "    sns.scatterplot(data=df, x=\"training time\", y=\"training steps\", hue = \"features\")\n",
    "    plt.show()\n",
    "    print(df1[\"training steps\"].max())\n",
    "    print(df2[\"training steps\"].max())\n",
    "    print(df3[\"training steps\"].max())\n",
    "    "
   ]
  },
  {
   "cell_type": "markdown",
   "id": "united-whale",
   "metadata": {},
   "source": [
    "# Exploration complexity"
   ]
  },
  {
   "cell_type": "code",
   "execution_count": null,
   "id": "crazy-indication",
   "metadata": {},
   "outputs": [],
   "source": [
    "problems = [\"AT\", \"TA\", \"BW\", \"TL\", \"DP\"]\n",
    "f, axs = plt.subplots(1, len(problems), figsize=(5*len(problems), 6))\n",
    "\n",
    "for i in range(len(problems)):\n",
    "    df_agent = pd.read_csv(\"experiments/results 25 mar/\"+filename([problems[i], 2, 2])+\"/Agent15.csv\")\n",
    "    df_ra = pd.read_csv(\"experiments/results 25 mar/\"+filename([problems[i], 2, 2])+\"/RA15.csv\")\n",
    "    df_agent[\"approach\"] = \"Agent\"\n",
    "    df_ra[\"approach\"] = \"RA\"\n",
    "    \n",
    "    sns.lineplot(data=pd.concat([df_agent, df_ra], ignore_index=True), x=\"expanded transitions\", y=\"synthesis time(ms)\", ax=axs[i], hue=\"approach\")\n",
    "    axs[i].set_title(problems[i], fontsize=30)\n",
    "\n",
    "plt.tight_layout()\n",
    "#plt.savefig(\"experiments/figures/overhead.jpg\", dpi=200)\n",
    "plt.show()"
   ]
  },
  {
   "cell_type": "markdown",
   "id": "breeding-office",
   "metadata": {},
   "source": [
    "# RA refactor"
   ]
  },
  {
   "cell_type": "code",
   "execution_count": null,
   "id": "spread-honey",
   "metadata": {},
   "outputs": [],
   "source": [
    "def plot_heatmap_time(df, ax, file):\n",
    "    dfp = df.pivot(\"n\", \"k\", \"synthesis time(ms)\")\n",
    "    if file == \"all_r_15.csv\":\n",
    "        for n in range(2, 16):\n",
    "            for k in range(2, 16):\n",
    "                if np.isnan(dfp[n-1][k]) or np.isnan(dfp[n][k-1]):\n",
    "                    dfp[n][k] = np.NaN\n",
    "    sns.heatmap(data=dfp, cmap=sns.cm.rocket_r, ax=ax, xticklabels=range(1, 16), yticklabels=range(1, 16), vmin=0, vmax=500000)\n",
    "    ax.set_ylim(0, 15)\n",
    "    ax.set_xlim(0, 15)\n",
    "        \n",
    "\n",
    "problems = [\"AT\", \"TA\", \"BW\", \"TL\", \"DP\"]\n",
    "files = [(\"all_ra_old_15_old.csv\", \"Pre-Refactor\"), (\"all_r_15.csv\", \"Refactor\"), (\"all_ra_afterfix_15.csv\", \"Afterfix\")]\n",
    "f, axs = plt.subplots(len(files), len(problems), figsize = (5*len(problems), 5*len(files)))\n",
    "\n",
    "\n",
    "for i in range(len(files)):\n",
    "    file, name = files[i]\n",
    "    for j in range(len(problems)):\n",
    "        df = pd.read_csv(\"experiments/results/\"+filename([problems[j], 2, 2])+\"/\"+file)\n",
    "        plot_heatmap_time(df, axs[i][j], file)\n",
    "    axs[i][0].set_ylabel(files[i][1], fontsize=30)\n",
    "for i in range(len(problems)):\n",
    "    axs[0][i].set_title(problems[i], fontsize=24)\n",
    "plt.tight_layout()\n",
    "plt.savefig(\"experiments/figures/refactor_and_fix.jpg\", dpi=200)\n",
    "plt.show()"
   ]
  },
  {
   "cell_type": "markdown",
   "id": "casual-accordance",
   "metadata": {},
   "source": [
    "# High generalization"
   ]
  },
  {
   "cell_type": "code",
   "execution_count": null,
   "id": "ideal-mapping",
   "metadata": {},
   "outputs": [],
   "source": [
    "def plot_heatmap_trans(df, ax):\n",
    "    dfp = df.pivot(\"n\", \"k\", \"expanded transitions\")\n",
    "    sns.heatmap(data=dfp, annot=True, cmap=sns.cm.rocket_r, ax=ax, vmin=0, vmax=100000)\n",
    "    ax.invert_yaxis()\n",
    "\n",
    "def plot_heatmap_time(df, ax):\n",
    "    dfp = df.pivot(\"n\", \"k\", \"synthesis time(ms)\")\n",
    "    sns.heatmap(data=dfp, annot=True, cmap=sns.cm.rocket_r, ax=ax, vmin=0, vmax=1000000)\n",
    "    ax.invert_yaxis()\n",
    "    \n",
    "\n",
    "problems = [\"AT\", \"TA\", \"BW\", \"TL\", \"DP\"]\n",
    "files = [(\"generalization_2_2.csv\", \"Agent\"), (\"RA.csv\", \"RA\")]\n",
    "f, axs = plt.subplots(len(files), len(problems), figsize = (5*len(problems), 5*len(files)))\n",
    "\n",
    "\n",
    "for i in range(len(files)):\n",
    "    file, name = files[i]\n",
    "    for j in range(len(problems)):\n",
    "        df = pd.read_csv(\"experiments/results/\"+filename([problems[j], 2, 2])+\"/\"+file)\n",
    "        if i == 0:\n",
    "            print(problems[j], df.loc[(df[\"n\"] == 3) & (df[\"k\"] == 3)][\"synthesis time(ms)\"].iloc[0])\n",
    "        plot_heatmap_time(df, ax=axs[i][j])\n",
    "    axs[i][0].set_ylabel(files[i][1], fontsize=30)\n",
    "for i in range(len(problems)):\n",
    "    axs[0][i].set_title(problems[i], fontsize=24)\n",
    "plt.tight_layout()\n",
    "#plt.savefig(\"experiments/figures/test_all_time.jpg\", dpi=200)\n",
    "plt.show()"
   ]
  },
  {
   "cell_type": "markdown",
   "id": "continued-digit",
   "metadata": {},
   "source": [
    "# Heuristic time"
   ]
  },
  {
   "cell_type": "code",
   "execution_count": null,
   "id": "rapid-short",
   "metadata": {},
   "outputs": [],
   "source": [
    "def fill_df(df, m):\n",
    "    added = []\n",
    "    for n in range(1, m+1):\n",
    "        for k in range(1, m+1):\n",
    "            if len(df.loc[(df[\"n\"] == n) & (df[\"k\"] == k)]) == 0:\n",
    "                added.append({\"n\": n, \"k\": k, \"expanded transitions\": float(\"inf\"), \"synthesis time(ms)\": float(\"inf\")})\n",
    "    df = pd.concat([df, pd.DataFrame(added)], ignore_index=True)\n",
    "    return df\n",
    "\n",
    "def get_comp_solved_df(df_agent_p, df_ra_p):\n",
    "    df1 = df_agent_p.fillna(float(\"inf\"))\n",
    "    df2 = df_ra_p.fillna(float(\"inf\"))\n",
    "    df1 = df1 != float(\"inf\")\n",
    "    df2 = df2 != float(\"inf\")\n",
    "    return 1*((df1 == df2) & df1) + 2*(df2 > df1) + 3*(df1 > df2)\n",
    "\n",
    "problems = [\"AT\", \"TA\", \"BW\", \"TL\", \"DP\"]\n",
    "f, axs = plt.subplots(1, len(problems), figsize=(10*len(problems), 12))\n",
    "\n",
    "for i in range(len(problems)):\n",
    "    df_agent = pd.read_csv(\"experiments/results/\"+filename([problems[i], 2, 2])+\"/all_e_15.csv\")\n",
    "    df_ra = pd.read_csv(\"experiments/results/\"+filename([problems[i], 2, 2])+\"/all_r_15.csv\")\n",
    "    df_agent = fill_df(df_agent, 15)\n",
    "    df_ra = fill_df(df_ra, 15)\n",
    "    df_agent[\"heuristic time rel\"] = df_agent[\"heuristic time(ms)\"] / df_agent[\"synthesis time(ms)\"]\n",
    "    df_ra[\"heuristic time rel\"] = df_ra[\"heuristic time(ms)\"] / df_ra[\"synthesis time(ms)\"]\n",
    "    df_agent_p = df_agent.pivot(\"n\", \"k\", \"heuristic time rel\")\n",
    "    df_ra_p = df_ra.pivot(\"n\", \"k\", \"heuristic time rel\")\n",
    "    sns.heatmap(data=df_agent_p, ax=axs[i], cmap=sns.cm.rocket_r, annot=True)\n",
    "    #sns.heatmap(data=get_comp_solved_df(df_agent_p, df_ra_p), cmap=[\"#d0e1d4\", \"#08a045\", \"#ed6a5a\", \"#008bf8\"], ax=axs[i], vmin=0, vmax=3, cbar=False)\n",
    "    axs[i].invert_yaxis()\n",
    "    axs[i].set_title(problems[i], fontsize=30)\n",
    "\n",
    "plt.tight_layout()\n",
    "plt.savefig(\"experiments/figures/agent_heuristic_time.jpg\", dpi=200)\n",
    "plt.show()"
   ]
  },
  {
   "cell_type": "markdown",
   "id": "nuclear-cleanup",
   "metadata": {},
   "source": [
    "# Agent vs Monolithic"
   ]
  },
  {
   "cell_type": "code",
   "execution_count": null,
   "id": "minus-quebec",
   "metadata": {},
   "outputs": [],
   "source": [
    "def fill_df(df, m):\n",
    "    added = []\n",
    "    for n in range(1, m+1):\n",
    "        for k in range(1, m+1):\n",
    "            if len(df.loc[(df[\"n\"] == n) & (df[\"k\"] == k)]) == 0:\n",
    "                added.append({\"n\": n, \"k\": k, \"expanded transitions\": float(\"inf\"), \"synthesis time(ms)\": float(\"inf\")})\n",
    "    df = pd.concat([df, pd.DataFrame(added)], ignore_index=True)\n",
    "    return df\n",
    "\n",
    "def get_comp_solved_df(df_agent_p, df_ra_p):\n",
    "    df1 = df_agent_p.fillna(float(\"inf\"))\n",
    "    df2 = df_ra_p.fillna(float(\"inf\"))\n",
    "    df1 = df1 != float(\"inf\")\n",
    "    df2 = df2 != float(\"inf\")\n",
    "    return 1*((df1 == df2) & df1) + 2*(df2 > df1) + 3*(df1 > df2)\n",
    "\n",
    "df = []\n",
    "for key, time in monolithic_results.items():\n",
    "    problem, n, k = key\n",
    "    df.append({\"problem\": problem, \"n\": n, \"k\": k, \"synthesis time(ms)\": time})\n",
    "df = pd.DataFrame(df)\n",
    "df[\"synthesis time(ms)\"] = df.apply(lambda r: np.nan if r[\"synthesis time(ms)\"] > 10*60*1000 else r[\"synthesis time(ms)\"], axis=1)\n",
    "df_mono = df\n",
    "\n",
    "problems = [\"AT\", \"TA\", \"BW\", \"TL\", \"DP\"]\n",
    "f, axs = plt.subplots(1, len(problems), figsize=(5*len(problems), 6))\n",
    "\n",
    "for i in range(len(problems)):\n",
    "    df_agent = pd.read_csv(\"experiments/results 25 mar/\"+filename([problems[i], 2, 2])+\"/Agent15.csv\")\n",
    "    df_agent = fill_df(df_agent, 15)\n",
    "    df_agent_p = df_agent.pivot(\"n\", \"k\", \"synthesis time(ms)\")\n",
    "    \n",
    "    df_loc = df_mono.loc[df_mono[\"problem\"] == problems[i]]\n",
    "    df_loc = fill_df(df_loc, 15)\n",
    "    df_loc = df_loc.pivot(\"n\", \"k\", \"synthesis time(ms)\")\n",
    "    sns.heatmap(data=get_comp_solved_df(df_agent_p, df_loc), cmap=[\"#d0e1d4\", \"#08a045\", \"#ed6a5a\", \"#008bf8\"], vmin=0, vmax=3, ax=axs[i], cbar=False)\n",
    "    axs[i].invert_yaxis()\n",
    "    axs[i].set_title(problems[i], fontsize=30)\n",
    "\n",
    "plt.tight_layout()\n",
    "#plt.savefig(\"experiments/figures/test_solved_mono.jpg\", dpi=200)\n",
    "plt.show()"
   ]
  },
  {
   "cell_type": "markdown",
   "id": "smaller-listening",
   "metadata": {},
   "source": [
    "# Agent vs RA 15"
   ]
  },
  {
   "cell_type": "code",
   "execution_count": null,
   "id": "worst-grocery",
   "metadata": {},
   "outputs": [],
   "source": [
    "def fill_df(df, m):\n",
    "    added = []\n",
    "    for n in range(1, m+1):\n",
    "        for k in range(1, m+1):\n",
    "            if len(df.loc[(df[\"n\"] == n) & (df[\"k\"] == k)]) == 0:\n",
    "                added.append({\"n\": n, \"k\": k, \"expanded transitions\": float(\"inf\"), \"synthesis time(ms)\": float(\"inf\")})\n",
    "    df = pd.concat([df, pd.DataFrame(added)], ignore_index=True)\n",
    "    return df\n",
    "\n",
    "def get_comp_solved_df(agent_s, ra_s, agent_t, ra_t):\n",
    "    agent_s = agent_s.fillna(float(\"inf\"))\n",
    "    ra_s = ra_s.fillna(float(\"inf\"))\n",
    "    agent_t = agent_t.fillna(float(\"inf\"))\n",
    "    ra_t = ra_t.fillna(float(\"inf\"))\n",
    "    \n",
    "    agent_solved = agent_s != float(\"inf\")\n",
    "    ra_solved = ra_s != float(\"inf\")\n",
    "    #result = (ra_solved & agent_solved)*(1*(agent_s > ra_s)+2*(ra_s >= agent_s)) + 3*(ra_solved > agent_solved) + 4*(agent_solved > ra_solved)\n",
    "    result = (ra_solved & agent_solved)*(1*(agent_t > ra_t)+2*(ra_t >= agent_t)) + 3*(ra_solved > agent_solved) + 4*(agent_solved > ra_solved)\n",
    "    \n",
    "    return result\n",
    "\n",
    "problems = [\"AT\", \"TA\", \"BW\", \"TL\", \"DP\"]\n",
    "f, axs = plt.subplots(1, len(problems), figsize=(5*len(problems), 7))\n",
    "\n",
    "for i in range(len(problems)):\n",
    "    df_agent = pd.read_csv(\"experiments/results 25 mar/\"+filename([problems[i], 2, 2])+\"/Agent15.csv\")\n",
    "    df_ra = pd.read_csv(\"experiments/results 25 mar/\"+filename([problems[i], 2, 2])+\"/RA15.csv\")\n",
    "    df_agent = fill_df(df_agent, 15)\n",
    "    df_ra = fill_df(df_ra, 15)\n",
    "    agent_s = df_agent.pivot(\"n\", \"k\", \"synthesis time(ms)\")\n",
    "    ra_s = df_ra.pivot(\"n\", \"k\", \"synthesis time(ms)\")\n",
    "    agent_t = df_agent.pivot(\"n\", \"k\", \"expanded transitions\")\n",
    "    ra_t = df_ra.pivot(\"n\", \"k\", \"expanded transitions\")\n",
    "    grey = \"#d0e1d4\"\n",
    "    red = \"#ed6a5a\"\n",
    "    blue = \"#008bf8\"\n",
    "    green = \"#08a045\"\n",
    "    green1 = \"#A7C957\"\n",
    "    sns.heatmap(data=get_comp_solved_df(agent_s, ra_s, agent_t, ra_t), cmap=[grey, green, green, red, blue], ax=axs[i], vmin=0, vmax=4, cbar=False)\n",
    "    axs[i].invert_yaxis()\n",
    "    axs[i].set_ylabel(\"n\", fontsize=20)\n",
    "    axs[i].set_xlabel(\"k\", fontsize=20)\n",
    "    axs[i].set_title(problems[i], fontsize=30)\n",
    "\n",
    "plt.tight_layout()\n",
    "#plt.savefig(\"experiments/figures/test_solved_15.png\", dpi=500)\n",
    "plt.show()"
   ]
  },
  {
   "cell_type": "markdown",
   "id": "opposite-verification",
   "metadata": {},
   "source": [
    "# Agent vs RA 15 expanded transitions"
   ]
  },
  {
   "cell_type": "code",
   "execution_count": null,
   "id": "dimensional-major",
   "metadata": {},
   "outputs": [],
   "source": [
    "def fill_df(df, m):\n",
    "    added = []\n",
    "    for n in range(1, m+1):\n",
    "        for k in range(1, m+1):\n",
    "            if len(df.loc[(df[\"n\"] == n) & (df[\"k\"] == k)]) == 0:\n",
    "                added.append({\"n\": n, \"k\": k, \"expanded transitions\": float(\"inf\"), \"synthesis time(ms)\": float(\"inf\")})\n",
    "    df = pd.concat([df, pd.DataFrame(added)], ignore_index=True)\n",
    "    return df\n",
    "\n",
    "def get_comp_solved_df(df_agent_p, df_ra_p):\n",
    "    df1 = df_agent_p.fillna(float(\"inf\"))\n",
    "    df2 = df_ra_p.fillna(float(\"inf\"))\n",
    "    return ((df1 != float(\"inf\")) & (df2 != float(\"inf\")))* (1*(df1 > df2) + 2*(df1 < df2) + 3*(df1 == df2))\n",
    "\n",
    "problems = [\"AT\", \"TA\", \"BW\", \"TL\", \"DP\"]\n",
    "f, axs = plt.subplots(1, len(problems), figsize=(5*len(problems), 6))\n",
    "\n",
    "measure = \"expanded transitions\"\n",
    "#measure = \"synthesis time(ms)\"\n",
    "\n",
    "for i in range(len(problems)):\n",
    "    df_agent = pd.read_csv(\"experiments/results 25 mar/\"+filename([problems[i], 2, 2])+\"/Agent15.csv\")\n",
    "    df_ra = pd.read_csv(\"experiments/results 25 mar/\"+filename([problems[i], 2, 2])+\"/RA15.csv\")\n",
    "    df_agent = fill_df(df_agent, 15)\n",
    "    df_ra = fill_df(df_ra, 15)\n",
    "    df_agent_p = df_agent.pivot(\"n\", \"k\", measure)\n",
    "    df_ra_p = df_ra.pivot(\"n\", \"k\", measure)\n",
    "    grey = \"#d0e1d4\"\n",
    "    red = \"#ed6a5a\"\n",
    "    blue = \"#008bf8\"\n",
    "    green = \"#08a045\"\n",
    "    green1 = \"#adc178\"\n",
    "    sns.heatmap(data=get_comp_solved_df(df_agent_p, df_ra_p), cmap=[grey, red, blue, green], ax=axs[i], vmin=0, vmax=3, cbar=False)\n",
    "    axs[i].invert_yaxis()\n",
    "    axs[i].set_title(problems[i], fontsize=30)\n",
    "\n",
    "plt.tight_layout()\n",
    "#plt.savefig(\"experiments/figures/test_solved_15.jpg\", dpi=200)\n",
    "plt.show()"
   ]
  },
  {
   "cell_type": "markdown",
   "id": "afraid-shannon",
   "metadata": {},
   "source": [
    "# Agent vs RA 15 separated"
   ]
  },
  {
   "cell_type": "code",
   "execution_count": null,
   "id": "fifty-replication",
   "metadata": {},
   "outputs": [],
   "source": [
    "def plot_heatmap_trans(df, ax):\n",
    "    dfp = df.pivot(\"n\", \"k\", \"expanded transitions\")\n",
    "    sns.heatmap(data=dfp, cmap=sns.cm.rocket_r, ax=ax, vmin=0, vmax=100000)\n",
    "    ax.invert_yaxis()\n",
    "\n",
    "def plot_heatmap_time(df, ax):\n",
    "    dfp = df.pivot(\"n\", \"k\", \"synthesis time(ms)\")\n",
    "    sns.heatmap(data=dfp, cmap=sns.cm.rocket_r, ax=ax, xticklabels=range(1, 16), yticklabels=range(1, 16))\n",
    "    ax.set_ylim(0, 15)\n",
    "    ax.set_xlim(0, 15)\n",
    "\n",
    "problems = [\"AT\", \"TA\", \"BW\", \"TL\", \"DP\"]\n",
    "files = [(\"Agent15.csv\", \"Agent\"), (\"RA15.csv\", \"RA\")]\n",
    "f, axs = plt.subplots(len(files), len(problems), figsize = (5*len(problems), 5*len(files)))\n",
    "\n",
    "\n",
    "for i in range(len(files)):\n",
    "    file, name = files[i]\n",
    "    for j in range(len(problems)):\n",
    "        df = pd.read_csv(\"experiments/results 25 mar/\"+filename([problems[j], 2, 2])+\"/\"+file)\n",
    "        plot_heatmap_time(df, ax=axs[i][j])\n",
    "    axs[i][0].set_ylabel(files[i][1], fontsize=30)\n",
    "for i in range(len(problems)):\n",
    "    axs[0][i].set_title(problems[i], fontsize=24)\n",
    "plt.tight_layout()\n",
    "#plt.savefig(\"experiments/figures/test_all_time.jpg\", dpi=200)\n",
    "plt.show()"
   ]
  },
  {
   "cell_type": "markdown",
   "id": "small-colombia",
   "metadata": {},
   "source": [
    "# Eta y epsilon (deprecated)"
   ]
  },
  {
   "cell_type": "code",
   "execution_count": null,
   "id": "peaceful-currency",
   "metadata": {},
   "outputs": [],
   "source": [
    "df = []\n",
    "for problem, n, k in [(\"AT\", 2, 2)]:\n",
    "    for eta in [1e-3, 1e-4, 1e-5, 1e-6]:\n",
    "        for eps in [0.05, 0.1]:\n",
    "            for it in range(2):\n",
    "                df.append(pd.read_csv(\"experiments/results 25 mar/\"+filename([problem, n, k])+\"/\"+filename([\"eta\", eta, it, eps])+\".csv\"))\n",
    "                df[-1][\"eta\"] = eta\n",
    "                df[-1][\"it\"] = it\n",
    "                df[-1][\"eps\"] = eps\n",
    "df = pd.concat(df, ignore_index=True)\n",
    "df_preprocess(df, 500)\n",
    "\n",
    "def plot_params(eta, eps):\n",
    "    y_axis = \"expanded transitions / total\"\n",
    "    dfplot = df.loc[(df[\"eta\"]==eta) & (df[\"eps\"]==eps)]\n",
    "    #dfplot = dfplot.loc[dfplot[\"it\"] == 1]\n",
    "    \n",
    "    plot_ra_expanded_transitions(\"AT\", 2, 2, norm=True, color=\"r\")\n",
    "    plot_ra_expanded_transitions(\"AT\", 3, 3, norm=True, color=\"b\")\n",
    "    \n",
    "    sns.lineplot(data=dfplot, x=\"rounded training time\", y=y_axis, hue=\"instance\", ci=None, palette=\"Set1\")\n",
    "    plt.title((eta, eps))\n",
    "    plt.show()\n",
    "    \n",
    "def plot_params_comparison(n, k):\n",
    "    y_axis = \"expanded transitions\"\n",
    "    dfplot = df.loc[(df[\"n\"]==n) & (df[\"eta\"]<=1e-4)]\n",
    "    #dfplot = dfplot.loc[dfplot[\"it\"] == 1]\n",
    "    \n",
    "    plot_ra_expanded_transitions(\"AT\", n, k, norm=False, color=\"black\")\n",
    "    \n",
    "    \n",
    "    sns.lineplot(data=dfplot, x=\"rounded training time\", y=y_axis, hue=\"eta\", ci=None, palette=\"Set1\")\n",
    "    plt.title((eta, eps))\n",
    "    plt.show()\n",
    "\n",
    "#plot_params(1e-5, 0.05)\n",
    "#plot_params(1e-6, 0.05)\n",
    "#plot_params(1e-5, 0.1)\n",
    "#plot_params(1e-6, 0.1)\n",
    "#plot_params(1e-5, 0.05)\n",
    "\n",
    "plot_params_comparison(2, 2)"
   ]
  },
  {
   "cell_type": "markdown",
   "id": "democratic-incident",
   "metadata": {},
   "source": [
    "# Feature distribution"
   ]
  },
  {
   "cell_type": "code",
   "execution_count": 3,
   "id": "extra-humidity",
   "metadata": {},
   "outputs": [],
   "source": [
    "n = 2\n",
    "features = feature_names(True)\n",
    "df = {name: [] for name in features}\n",
    "for problem in [\"AT\", \"BW\", \"DP\", \"TA\", \"TL\"]:\n",
    "    with open(\"experiments/results/\"+filename([problem, n, n])+\"/states_2_2.pkl\", \"rb\") as f:\n",
    "        states = pickle.load(f)\n",
    "    for s in states:\n",
    "        for a in s:\n",
    "            for i in range(len(features)):\n",
    "                df[features[i]].append(a[i])\n",
    "\n",
    "df = pd.DataFrame(df)"
   ]
  },
  {
   "cell_type": "code",
   "execution_count": 8,
   "id": "caroline-virginia",
   "metadata": {},
   "outputs": [
    {
     "name": "stdout",
     "output_type": "stream",
     "text": [
      "0.0011021686365934363\n"
     ]
    }
   ],
   "source": [
    "print(df[\"child goal\"].sum() / df.shape[0])"
   ]
  },
  {
   "cell_type": "code",
   "execution_count": 6,
   "id": "determined-dating",
   "metadata": {},
   "outputs": [
    {
     "data": {
      "image/png": "[encoded data removed]",
      "text/plain": [
       "<Figure size 432x288 with 1 Axes>"
      ]
     },
     "metadata": {
      "needs_background": "light"
     },
     "output_type": "display_data"
    },
    {
     "data": {
      "image/png": "[encoded data removed]",
      "text/plain": [
       "<Figure size 432x288 with 1 Axes>"
      ]
     },
     "metadata": {
      "needs_background": "light"
     },
     "output_type": "display_data"
    },
    {
     "data": {
      "image/png": "[encoded data removed]",
      "text/plain": [
       "<Figure size 432x288 with 1 Axes>"
      ]
     },
     "metadata": {
      "needs_background": "light"
     },
     "output_type": "display_data"
    },
    {
     "data": {
      "image/png": "[encoded data removed]",
      "text/plain": [
       "<Figure size 432x288 with 1 Axes>"
      ]
     },
     "metadata": {
      "needs_background": "light"
     },
     "output_type": "display_data"
    },
    {
     "data": {
      "image/png": "[encoded data removed]",
      "text/plain": [
       "<Figure size 432x288 with 1 Axes>"
      ]
     },
     "metadata": {
      "needs_background": "light"
     },
     "output_type": "display_data"
    },
    {
     "data": {
      "image/png": "[encoded data removed]",
      "text/plain": [
       "<Figure size 432x288 with 1 Axes>"
      ]
     },
     "metadata": {
      "needs_background": "light"
     },
     "output_type": "display_data"
    },
    {
     "data": {
      "image/png": "[encoded data removed]",
      "text/plain": [
       "<Figure size 432x288 with 1 Axes>"
      ]
     },
     "metadata": {
      "needs_background": "light"
     },
     "output_type": "display_data"
    },
    {
     "data": {
      "image/png": "[encoded data removed]",
      "text/plain": [
       "<Figure size 432x288 with 1 Axes>"
      ]
     },
     "metadata": {
      "needs_background": "light"
     },
     "output_type": "display_data"
    },
    {
     "data": {
      "image/png": "[encoded data removed]",
      "text/plain": [
       "<Figure size 432x288 with 1 Axes>"
      ]
     },
     "metadata": {
      "needs_background": "light"
     },
     "output_type": "display_data"
    },
    {
     "data": {
      "image/png": "[encoded data removed]",
      "text/plain": [
       "<Figure size 432x288 with 1 Axes>"
      ]
     },
     "metadata": {
      "needs_background": "light"
     },
     "output_type": "display_data"
    },
    {
     "data": {
      "image/png": "[encoded data removed]",
      "text/plain": [
       "<Figure size 432x288 with 1 Axes>"
      ]
     },
     "metadata": {
      "needs_background": "light"
     },
     "output_type": "display_data"
    },
    {
     "data": {
      "image/png": "[encoded data removed]",
      "text/plain": [
       "<Figure size 432x288 with 1 Axes>"
      ]
     },
     "metadata": {
      "needs_background": "light"
     },
     "output_type": "display_data"
    },
    {
     "data": {
      "image/png": "[encoded data removed]",
      "text/plain": [
       "<Figure size 432x288 with 1 Axes>"
      ]
     },
     "metadata": {
      "needs_background": "light"
     },
     "output_type": "display_data"
    },
    {
     "data": {
      "image/png": "[encoded data removed]",
      "text/plain": [
       "<Figure size 432x288 with 1 Axes>"
      ]
     },
     "metadata": {
      "needs_background": "light"
     },
     "output_type": "display_data"
    }
   ],
   "source": [
    "for name in features:\n",
    "    df[name].plot(kind='hist');\n",
    "    plt.title(name)\n",
    "    plt.show()"
   ]
  }
 ],
 "metadata": {
  "kernelspec": {
   "display_name": "Python 3",
   "language": "python",
   "name": "python3"
  },
  "language_info": {
   "codemirror_mode": {
    "name": "ipython",
    "version": 3
   },
   "file_extension": ".py",
   "mimetype": "text/x-python",
   "name": "python",
   "nbconvert_exporter": "python",
   "pygments_lexer": "ipython3",
   "version": "3.9.5"
  }
 },
 "nbformat": 4,
 "nbformat_minor": 5
}
