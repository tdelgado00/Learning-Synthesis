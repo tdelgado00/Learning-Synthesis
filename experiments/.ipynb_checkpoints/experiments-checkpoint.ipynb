{
 "cells": [
  {
   "cell_type": "code",
   "execution_count": 1,
   "id": "postal-salvation",
   "metadata": {},
   "outputs": [],
   "source": [
    "import numpy as np\n",
    "import pandas as pd\n",
    "import matplotlib.pyplot as plt\n",
    "import seaborn as sns\n",
    "from prettytable import PrettyTable\n",
    "import pprint\n",
    "import pickle\n",
    "import json\n",
    "import os, sys\n",
    "os.chdir(\"../\")\n",
    "sys.path.append('src/')\n",
    "from util import *"
   ]
  },
  {
   "cell_type": "markdown",
   "id": "competitive-mandate",
   "metadata": {},
   "source": [
    "# Monolithic and RA results"
   ]
  },
  {
   "cell_type": "code",
   "execution_count": 74,
   "id": "pleasant-lincoln",
   "metadata": {},
   "outputs": [],
   "source": [
    "def fill_df(df, m):\n",
    "    added = []\n",
    "    for n in range(1, m+1):\n",
    "        for k in range(1, m+1):\n",
    "            if len(df.loc[(df[\"n\"] == n) & (df[\"k\"] == k)]) == 0:\n",
    "                added.append({\"n\": n, \"k\": k, \"expanded transitions\": float(\"inf\"), \"synthesis time(ms)\": float(\"inf\")})\n",
    "    df = pd.concat([df, pd.DataFrame(added)], ignore_index=True)\n",
    "    return df\n",
    "\n",
    "monolithic_results = {}\n",
    "for problem in [\"AT\", \"TA\", \"TL\", \"DP\", \"BW\", \"CM\"]:\n",
    "    df = pd.read_csv(\"experiments/results/ResultsPaper/\"+problem+\".csv\")\n",
    "    df = df.loc[df[\"controllerType\"] == \"mono\"]\n",
    "    df[\"n\"] = df[\"testcase\"].apply(lambda t: int(t.split(\"-\")[1]))\n",
    "    df[\"k\"] = df[\"testcase\"].apply(lambda t: int(t.split(\"-\")[2]))\n",
    "    df = fill_df(df, 15)\n",
    "    monolithic_results[\"expanded transitions\", problem] = df.pivot(\"n\", \"k\", \"expandedTransitions\")\n",
    "    monolithic_results[\"synthesis time(ms)\", problem] = df.pivot(\"n\", \"k\", \"synthesisTimeMs\")\n",
    "\n",
    "\n",
    "ra_results = {}\n",
    "for problem in [\"AT\", \"TA\", \"TL\", \"DP\", \"BW\", \"CM\"]:\n",
    "    df = pd.read_csv(\"experiments/results/\"+filename([problem, 2, 2])+\"/all_ra_afterfix_15.csv\")\n",
    "    df = fill_df(df, 15)\n",
    "    ra_results[\"expanded transitions\", problem] = df.pivot(\"n\", \"k\", \"expanded transitions\")\n",
    "    ra_results[\"synthesis time(ms)\", problem] = df.pivot(\"n\", \"k\", \"synthesis time(ms)\")\n",
    "    \n",
    "\n",
    "ra_sola_results = {}\n",
    "for problem in [\"AT\", \"TA\", \"TL\", \"DP\", \"BW\", \"CM\"]:\n",
    "    df = pd.read_csv(\"experiments/results/\"+filename([problem, 2, 2])+\"/all_ra_sola_15.csv\")\n",
    "    df = fill_df(df, 15)\n",
    "    ra_sola_results[\"expanded transitions\", problem] = df.pivot(\"n\", \"k\", \"expanded transitions\")\n",
    "    ra_sola_results[\"synthesis time(ms)\", problem] = df.pivot(\"n\", \"k\", \"synthesis time(ms)\")\n",
    "    \n",
    "random_results_small = {}\n",
    "for problem in [\"AT\", \"TA\", \"TL\", \"DP\", \"BW\", \"CM\"]:\n",
    "    for n, k in [(2, 2), (3, 3)]:\n",
    "        df = pd.read_csv(\"experiments/results/\"+filename([problem, n, k])+\"/random.csv\")\n",
    "        random_results_small[(problem, n, k)] = list(df[\"expanded transitions\"])\n",
    "        \n",
    "random_results = {}\n",
    "for problem in [\"AT\", \"TA\", \"TL\", \"DP\", \"BW\", \"CM\"]:\n",
    "    df = pd.read_csv(\"experiments/results/\"+filename([problem, 2, 2])+\"/all_random.csv\")\n",
    "    df = fill_df(df, 15)\n",
    "    random_results[\"expanded transitions\", problem] = df.pivot(\"n\", \"k\", \"expanded transitions\")\n",
    "    random_results[\"synthesis time(ms)\", problem] = df.pivot(\"n\", \"k\", \"synthesis time(ms)\")"
   ]
  },
  {
   "cell_type": "code",
   "execution_count": 47,
   "id": "given-necklace",
   "metadata": {},
   "outputs": [],
   "source": [
    "def plot_ra_expanded_transitions(problem, n, k, norm=False, label=\"RA\", color=\"r\"):\n",
    "    ra = ra_results[\"expanded transitions\", problem][n][k]\n",
    "    mono = monolithic_results[\"expanded transitions\", problem][n][k]\n",
    "    if norm:\n",
    "        print(\"RA\", ra/mono)\n",
    "        plt.text(5, ra/mono, \"RA\")\n",
    "        plt.axhline(y=ra/mono, color=color, linestyle='-', label=label)\n",
    "    else:\n",
    "        print(\"RA\", ra)\n",
    "        plt.text(5, ra, \"RA\")\n",
    "        plt.axhline(y=ra, color=color, linestyle='-', label=label)\n",
    "\n",
    "def plot_random_expanded_transitions(problem, n, k, norm=False, label=\"Random\", color=\"g\", use_min=False):\n",
    "    if use_min:\n",
    "        random = min(random_results_small[(problem, n, k)])\n",
    "    else:\n",
    "        random = np.mean(random_results_small[(problem, n, k)])\n",
    "    mono = monolithic_results[\"expanded transitions\", problem][n][k]\n",
    "    # print(ra, mono, ra/mono)\n",
    "    if norm:\n",
    "        plt.text(5, random/mono, label)\n",
    "        plt.axhline(y=random/mono, color=color, linestyle='-', label=label)\n",
    "    else:\n",
    "        plt.text(5, random, label)\n",
    "        plt.axhline(y=random, color=color, linestyle='-', label=label)\n",
    "    \n",
    "    \n",
    "def df_preprocess(df, base, window_size=4):\n",
    "    df[\"rounded training time\"] = df[\"training time\"] // base * base\n",
    "    df[\"rounded training steps\"] = df[\"training steps\"] // base * base\n",
    "\n",
    "    df[\"best transitions\"] = df[\"expanded transitions\"].cummin()\n",
    "    \n",
    "    df[\"mean transitions\"] = list(np.convolve(list(df[\"expanded transitions\"]), np.ones(window_size), mode='valid')/window_size)+[np.nan for _ in range(window_size-1)]\n",
    "    df[\"total transitions\"] = df.apply(lambda r: monolithic_results[\"expanded transitions\", r[\"problem\"]][r[\"n\"]][r[\"k\"]], axis=1)\n",
    "    df[\"expanded transitions / total\"] = df[\"expanded transitions\"] / df[\"total transitions\"]\n",
    "    df[\"mean transitions / total\"] = df[\"mean transitions\"] / df[\"total transitions\"]\n",
    "    \n",
    "    df[\"instance\"] = df.apply((lambda r: (r[\"problem\"], r[\"n\"], r[\"k\"])), axis=1)"
   ]
  },
  {
   "cell_type": "markdown",
   "id": "traditional-satellite",
   "metadata": {},
   "source": [
    "# Comparing transitions"
   ]
  },
  {
   "cell_type": "code",
   "execution_count": 66,
   "id": "mature-pixel",
   "metadata": {},
   "outputs": [
    {
     "name": "stdout",
     "output_type": "stream",
     "text": [
      "AT 5mill_C 230\n",
      "[17]\n",
      "AT 5mill_L 415\n",
      "[25]\n",
      "AT 5mill_RA 274\n",
      "[35]\n",
      "AT ra_feature2opt_2h 187\n",
      "[5]\n",
      "RA 413.0\n"
     ]
    },
    {
     "data": {
      "image/png": "[encoded data removed]",
      "text/plain": [
       "<Figure size 432x288 with 1 Axes>"
      ]
     },
     "metadata": {
      "needs_background": "light"
     },
     "output_type": "display_data"
    },
    {
     "name": "stdout",
     "output_type": "stream",
     "text": [
      "DP 5mill_C 147\n",
      "[34]\n",
      "DP 5mill_L 272\n",
      "[15]\n",
      "DP 5mill_RA 658\n",
      "[50]\n",
      "DP ra_feature2opt_2h 255\n",
      "[15]\n",
      "RA 87.0\n"
     ]
    },
    {
     "data": {
      "image/png": "[encoded data removed]",
      "text/plain": [
       "<Figure size 432x288 with 1 Axes>"
      ]
     },
     "metadata": {
      "needs_background": "light"
     },
     "output_type": "display_data"
    }
   ],
   "source": [
    "problems = [\"AT\", \"BW\", \"CM\", \"DP\", \"TA\", \"TL\"]\n",
    "problems = [\"AT\", \"DP\"]\n",
    "#files = [\"1mill\", \"T_1mill\", \"B_1mill\", \"TB_1mill\"]\n",
    "#files = [\"TB_5mill\", \"ra_feature2opt_2h\", \"base_features_2h\"]\n",
    "#files = [\"ra_feature2opt_2h\"]\n",
    "#files = [\"base_features_2h\", \"ra_feature2opt_2h\", \"TB_5mill\", \"labels_2h\"]\n",
    "#files = [\"TB_5mill_2000\", \"TB_5mill_5000\", \"TB_5mill\", \"ra_feature2opt_2h\"]\n",
    "files = [\"base_features_2h\", \"ra_feature2opt_2h\", \"5mill_RA\", \"5mill_L\", \"TB_5mill\", \"labels_2h\"]\n",
    "files = [\"5mill_C\", \"5mill_L\", \"5mill_RA\", \"ra_feature2opt_2h\"]\n",
    "#files = [\"5mill_C\"]\n",
    "for problem in problems:\n",
    "    dfs = []\n",
    "    n2, k2 = 3, 3\n",
    "    for n, k, file  in [(2, 2, f) for f in files]:\n",
    "        dfs.append(pd.read_csv(\"experiments/results/\"+filename([problem, n, k])+\"/\"+file+\"/\"+filename([problem, n2, k2])+\".csv\"))\n",
    "        df_preprocess(dfs[-1], 200000, 8)\n",
    "        #if file == \"5mill_C\":\n",
    "        #    dfs[-1] = dfs[-1].loc[dfs[-1][\"idx\"] % 5 == 0]\n",
    "        dfs[-1][\"case\"] = filename([n, k, file])\n",
    "        \n",
    "        print(problem, file, dfs[-1][\"expanded transitions\"].dropna().min())\n",
    "        print(list(dfs[-1].loc[dfs[-1][\"expanded transitions\"] == dfs[-1][\"expanded transitions\"].min()][\"idx\"]))\n",
    "    \n",
    "    df = pd.concat(dfs, ignore_index=True)\n",
    "    sns.lineplot(data = df, x=\"training steps\", y=\"best transitions\", hue=\"case\")\n",
    "\n",
    "    plot_ra_expanded_transitions(problem, n2, k2, norm=False)\n",
    "    #plot_random_expanded_transitions(problem, n2, k2, norm=False, label=\"Random mean\")\n",
    "    #plot_random_expanded_transitions(problem, n2, k2, norm=False, use_min=True, label=\"Random min\")\n",
    "    plt.title(\" \".join([problem, str(n2), str(k2)]))\n",
    "    #plt.tight_layout()\n",
    "    plt.legend(prop={'size': 7})\n",
    "    plt.savefig(\"experiments/figures/context/best/\"+filename([problem, n2, k2])+\".jpg\", dpi=500)\n",
    "    plt.show()"
   ]
  },
  {
   "cell_type": "markdown",
   "id": "acknowledged-extraction",
   "metadata": {},
   "source": [
    "## Comparing transitions from different n and k"
   ]
  },
  {
   "cell_type": "code",
   "execution_count": null,
   "id": "hollow-coordination",
   "metadata": {},
   "outputs": [],
   "source": [
    "problems = [\"AT\"]\n",
    "\n",
    "#files = [\"1mill\", \"T_1mill\", \"B_1mill\", \"TB_1mill\"]\n",
    "#files = [\"TB_5mill\", \"ra_feature2opt_2h\", \"base_features_2h\"]\n",
    "#files = [\"ra_feature2opt_2h\"]\n",
    "#files = [\"base_features_2h\", \"ra_feature2opt_2h\", \"TB_5mill\", \"labels_2h\"]\n",
    "#files = [\"TB_5mill_2000\", \"TB_5mill_5000\", \"TB_5mill\", \"ra_feature2opt_2h\"]\n",
    "files = [\"labels_2h\", \"TB_5mill\", \"ra_feature2opt_2h\"]\n",
    "#files = [\"TB_5mill\", \"labels_2h\"]\n",
    "files = [\"5mill\", \"1mill_eta1e-4\"]\n",
    "\n",
    "for problem in problems:\n",
    "    dfs = []\n",
    "    n, k, file = (3, 3, \"5mill\")\n",
    "    for n2 in range(1, 5):\n",
    "        for k2 in range(1, 5):\n",
    "            dfs.append(pd.read_csv(\"experiments/results/\"+filename([problem, n, k])+\"/\"+file+\"/\"+filename([problem, n2, k2])+\".csv\"))\n",
    "            df_preprocess(dfs[-1], 200000, 20)\n",
    "            dfs[-1][\"case\"] = filename([n, k, file, n2, k2])\n",
    "\n",
    "            print(problem, file, n2, k2, dfs[-1][\"expanded transitions\"].dropna().min())\n",
    "            #print(list(dfs[-1].loc[dfs[-1][\"expanded transitions\"] == dfs[-1][\"expanded transitions\"].min()][\"idx\"]))\n",
    "    \n",
    "    df = pd.concat(dfs, ignore_index=True)\n",
    "\n",
    "    sns.lineplot(data = df, x=\"training steps\", y=\"mean transitions / total\", hue=\"case\")\n",
    "\n",
    "    #plot_ra_expanded_transitions(problem, n2, k2, norm=False)\n",
    "    #plot_random_expanded_transitions(problem, n2, k2, norm=False, label=\"Random mean\")\n",
    "    #plot_random_expanded_transitions(problem, n2, k2, norm=False, use_min=True, label=\"Random min\")\n",
    "    plt.title(\" \".join([problem, str(n), str(k)]))\n",
    "    plt.tight_layout()\n",
    "    #plt.savefig(\"experiments/figures/TB/batch size/\"+filename([problem2, n2, k2])+\"_bs_3_3.jpg\", dpi=200)\n",
    "    plt.show()"
   ]
  },
  {
   "cell_type": "markdown",
   "id": "advance-convention",
   "metadata": {},
   "source": [
    "## Transitions table"
   ]
  },
  {
   "cell_type": "code",
   "execution_count": null,
   "id": "elect-billy",
   "metadata": {},
   "outputs": [],
   "source": [
    "files = [\"base_features_2h\", \"ra_feature2opt_2h\", \"TB_5mill\", \"labels_2h\"]\n",
    "#files = [\"base_features_2h\", \"ra_feature2opt_2h\"]\n",
    "#files = [\"ra_feature2opt_2h\", \"TB_5mill\"]\n",
    "#files = [\"base_features_2h\", \"ra_feature2opt_2h\", \"5mill_RA\", \"5mill_L\"]\n",
    "files = [\"base_features_2h\", \"ra_feature2opt_2h\", \"5mill_RA\", \"5mill_L\", \"TB_5mill\", \"labels_2h\"]\n",
    "problems = [\"AT\", \"BW\", \"CM\", \"DP\", \"TA\", \"TL\"]\n",
    "for problem in problems:\n",
    "    x = PrettyTable()\n",
    "    x.field_names = [problem, \"min 2\", \"min 3\", \"min mean 2\", \"idx mm2\", \"min mean 3\", \"idx mm3\", \"last q\", \"ra 2\", \"ra 3\"]\n",
    "    for file in files:\n",
    "        df_2_2 = pd.read_csv(\"experiments/results/\"+filename([problem, 2, 2])+\"/\"+file+\"/\"+filename([problem, 2, 2])+\".csv\")\n",
    "        df_3_3 = pd.read_csv(\"experiments/results/\"+filename([problem, 2, 2])+\"/\"+file+\"/\"+filename([problem, 3, 3])+\".csv\")\n",
    "        df_q = pd.read_csv(\"experiments/results/\"+filename([problem, 2, 2])+\"/\"+file+\"/q.csv\")\n",
    "\n",
    "        min_2_2 = df_2_2[\"expanded transitions\"].min()\n",
    "        min_3_3 = df_3_3[\"expanded transitions\"].min()\n",
    "\n",
    "        window_size = 5\n",
    "        df_2_2[\"mean transitions\"] = list(np.convolve(list(df_2_2[\"expanded transitions\"]), np.ones(window_size), mode='valid')/window_size)+[np.nan for _ in range(window_size-1)]\n",
    "        df_3_3[\"mean transitions\"] = list(np.convolve(list(df_3_3[\"expanded transitions\"]), np.ones(window_size), mode='valid')/window_size)+[np.nan for _ in range(window_size-1)]\n",
    "        min_mean_2_2 = df_2_2[\"mean transitions\"].min()\n",
    "        min_mean_3_3 = df_3_3[\"mean transitions\"].min()\n",
    "        min_mean_idx_2_2 = df_2_2[\"mean transitions\"].argmin()\n",
    "        min_mean_idx_3_3 = df_3_3[\"mean transitions\"].argmin()\n",
    "        \n",
    "        ra_2_2 = ra_results[\"expanded transitions\", problem][2][2]\n",
    "        ra_3_3 = ra_results[\"expanded transitions\", problem][3][3]\n",
    "        last_q = -df_q.iloc[-1][\"avg q\"]\n",
    "        x.add_row([file, min_2_2, min_3_3, min_mean_2_2, min_mean_idx_2_2 / 100, min_mean_3_3, min_mean_idx_3_3 / 20, last_q, ra_2_2, ra_3_3])\n",
    "    print(x)"
   ]
  },
  {
   "cell_type": "markdown",
   "id": "flying-diabetes",
   "metadata": {},
   "source": [
    "# Comparing avg Q"
   ]
  },
  {
   "cell_type": "code",
   "execution_count": null,
   "id": "veterinary-convergence",
   "metadata": {},
   "outputs": [],
   "source": [
    "problems = [\"AT\", \"BW\", \"CM\", \"DP\", \"TA\", \"TL\"]\n",
    "problems = [\"TA\"]\n",
    "\n",
    "files = [\"T_1mill\", \"TB_1mill\"]\n",
    "files = [\"1mill\", \"T_1mill\", \"B_1mill\", \"TB_1mill\"]\n",
    "files = [\"ra_feature2opt_2h\", \"ra_feature2_target\"]\n",
    "files = [\"TB_5mill\", \"ra_feature2opt_2h\"]\n",
    "files = [\"TB_5mill\", \"TB_5mill_2000\", \"TB_5mill_5000\"]\n",
    "files = [\"TB_5mill\", \"TB_5mill_b100000\"]\n",
    "files = [\"TB_5mill\", \"base_features_2h\"]\n",
    "files = [\"base_features_2h\", \"TB_5mill\", \"labels_2h\"]\n",
    "files = [\"base_features_2h\", \"ra_feature2opt_2h\", \"TB_5mill\", \"labels_2h\"]\n",
    "files = [\"TB_5mill_2000\", \"TB_5mill_5000\", \"TB_5mill\", \"ra_feature2opt_2h\"]\n",
    "files = [\"TB_5mill\", \"TB_5mill_bs100\", \"ra_feature2opt_2h\", \"base_features_2h\"]\n",
    "files = [\"labels_2h\", \"ra_feature2opt_2h\"]\n",
    "files = [\"5mill\"]\n",
    "files = [\"normalized\", \"1mill_eta1e-4\"]\n",
    "files = [\"50mill\"]\n",
    "\n",
    "files = [\"base_features_2h\", \"ra_feature2opt_2h\", \"5mill_RA\", \"5mill_L\"]\n",
    "files = [\"base_features_2h\", \"ra_feature2opt_2h\", \"5mill_RA\", \"5mill_L\", \"TB_5mill\", \"labels_2h\"]\n",
    "files = [\"5mill_RA\", \"ra_feature2opt_2h\"]\n",
    "\n",
    "for problem, n, k in [(x, 2, 2) for x in problems]:\n",
    "    dfs = []\n",
    "    for file in files:\n",
    "        if file != \"ra_feature2opt_2h\" or problem != \"CM\":\n",
    "            dfs.append(pd.read_csv(\"experiments/results/\"+filename([problem, n, k])+\"/\"+file+\"/q.csv\"))\n",
    "            dfs[-1][\"file\"] = file\n",
    "    df = pd.concat(dfs, ignore_index=True)\n",
    "    df[\"avg q\"] = -df[\"avg q\"]\n",
    "    sns.lineplot(data = df, x=\"training steps\", y=\"avg q\", hue=\"file\")\n",
    "    \n",
    "    plt.title(\" \".join([problem, str(n), str(k), \"q\"]))\n",
    "    plt.savefig(\"experiments/figures/q.jpg\", dpi=200)\n",
    "    plt.show()"
   ]
  },
  {
   "cell_type": "code",
   "execution_count": null,
   "id": "herbal-italic",
   "metadata": {},
   "outputs": [],
   "source": [
    "for problem in problems:\n",
    "    print(problem, monolithic_results[(problem, 2, 2)], monolithic_results[(problem, 3, 3)], end=\" \")\n",
    "    print(monolithic_results[(problem, 4, 4)] if problem != \"CM\" else \"nan\")"
   ]
  },
  {
   "cell_type": "markdown",
   "id": "endless-particle",
   "metadata": {},
   "source": [
    "## Time of evaluating up to 4 4"
   ]
  },
  {
   "cell_type": "code",
   "execution_count": null,
   "id": "dominant-church",
   "metadata": {},
   "outputs": [],
   "source": [
    "for problem in [\"AT\", \"BW\", \"CM\", \"DP\", \"TA\", \"TL\"]:\n",
    "    df_agent = pd.read_csv(\"experiments/results/\"+filename([problem, 2, 2])+\"/TB_5mill/all.csv\")\n",
    "    df_agent = fill_df(df_agent, 15)\n",
    "    agent_t = df_agent.pivot(\"n\", \"k\", \"synthesis time(ms)\")\n",
    "    print(problem)\n",
    "    print(agent_t / 1000)\n",
    "    agent_t = agent_t.fillna(float(\"inf\"))\n",
    "    print(problem, np.sum([(agent_t[n][k] if n != 4 or k != k else 0) for n in range(1, 4) for k in range(1, 4)]) / (1000*60) * 200)"
   ]
  },
  {
   "cell_type": "markdown",
   "id": "sunrise-willow",
   "metadata": {},
   "source": [
    "# Plotting Q"
   ]
  },
  {
   "cell_type": "code",
   "execution_count": null,
   "id": "portable-blanket",
   "metadata": {},
   "outputs": [],
   "source": [
    "problems = [\"AT\", \"TA\", \"TL\", \"DP\", \"BW\", \"CM\"]\n",
    "for problem, n, k in [(x, 2, 2) for x in problems]:\n",
    "    df = pd.read_csv(\"experiments/results 25 mar/\"+filename([problem, n, k])+\"/10m_0.csv\")\n",
    "    df[\"avg q\"] = -df[\"avg q\"]\n",
    "    sns.lineplot(data=df, x=\"training time\", y=\"avg q\")\n",
    "    \n",
    "    plt.title(\" \".join([problem, str(n), str(k), \"q\"]))\n",
    "    \n",
    "    plt.savefig(\"experiments/figures/10m_0/q/\"+filename([problem, n, k])+\".jpg\", dpi=200)\n",
    "    plt.show()"
   ]
  },
  {
   "cell_type": "markdown",
   "id": "environmental-equality",
   "metadata": {},
   "source": [
    "# Generalization correlation"
   ]
  },
  {
   "cell_type": "code",
   "execution_count": null,
   "id": "bridal-study",
   "metadata": {},
   "outputs": [],
   "source": [
    "problems = [\"AT\", \"BW\", \"CM\", \"DP\", \"TA\", \"TL\"]\n",
    "\n",
    "#files = [\"1mill\", \"T_1mill\", \"B_1mill\", \"TB_1mill\"]\n",
    "#files = [\"TB_5mill\", \"ra_feature2opt_2h\", \"base_features_2h\"]\n",
    "#files = [\"ra_feature2opt_2h\"]\n",
    "file = \"TB_5mill\"\n",
    "\n",
    "for problem, n, k in [(x, 2, 2) for x in problems]:\n",
    "    \n",
    "    df1 = pd.read_csv(\"experiments/results/\"+filename([problem, n, k])+\"/\"+file+\"/\"+filename([problem, 2, 2])+\".csv\")\n",
    "    df2 = pd.read_csv(\"experiments/results/\"+filename([problem, n, k])+\"/\"+file+\"/\"+filename([problem, 3, 3])+\".csv\")\n",
    "    print(len(df1), len(df2))\n",
    "    df = pd.DataFrame({\"transitions 2 2\": df1[\"expanded transitions\"], \"transitions 3 3\": df2[\"expanded transitions\"]})\n",
    "    \n",
    "    sns.regplot(data = df, x=\"transitions 2 2\", y=\"transitions 3 3\")\n",
    "    plt.title(problem+\" generalization correlation\")\n",
    "    #plt.savefig(\"experiments/figures/2h/trans/\"+filename([problem2, n2, k2, \"no_round\"])+\".jpg\", dpi=200)\n",
    "    plt.show()"
   ]
  },
  {
   "cell_type": "markdown",
   "id": "executed-approach",
   "metadata": {},
   "source": [
    "# Analyzing models output"
   ]
  },
  {
   "cell_type": "code",
   "execution_count": null,
   "id": "creative-tracy",
   "metadata": {},
   "outputs": [],
   "source": [
    "from sklearn.linear_model import LinearRegression\n",
    "from sklearn.feature_selection import f_regression\n",
    "from sklearn.feature_selection import VarianceThreshold\n",
    "from statsmodels.regression.linear_model import OLS\n",
    "\n",
    "a = 0\n",
    "def plot_q_and_pred(m, df_features, features, problem):\n",
    "    print(problem, m.rank_, m.intercept_)\n",
    "    print(m.coef_)\n",
    "    print(m.score(df_features[features], df_features[\"q\"]))\n",
    "    print(df_features[\"q\"].min(), df_features[\"q\"].max())\n",
    "    df_features[\"pred\"] = m.predict(df_features[features])\n",
    "    df_features[\"pred\"].plot(kind=\"hist\")\n",
    "    plt.title((\"pred\", problem))\n",
    "    plt.show()\n",
    "    plt.title(\"q\")\n",
    "    df_features[\"q\"].plot(kind=\"hist\")\n",
    "    plt.title((\"q\", problem))\n",
    "    plt.show()\n",
    "\n",
    "def plot_features(problem, n, k, dir, last=False, ra_feature=True):\n",
    "    problem2, n2, k2 = problem, 3, 3\n",
    "    df = pd.read_csv(\"experiments/results/\"+filename([problem, n, k])+\"/\"+dir+\"/\"+filename([problem2, n2, k2])+\".csv\")\n",
    "    idx = best_agent_idx(df) if not last else last_agent_idx(df)\n",
    "    t = \"last\" if last else \"best\"\n",
    "    df_features = pd.read_csv(\"experiments/results/\"+filename([problem, n, k])+\"/\"+dir+\"/\"+t+\"_\"+str(idx)+\".csv\")\n",
    "    \n",
    "    features = feature_names({\"ra feature\": True}, problem)\n",
    "    \n",
    "    print(problem)\n",
    "    \n",
    "    #m = LinearRegression()\n",
    "    #m.fit(df_features[features], df_features[\"q\"])\n",
    "    #plot_q_and_pred(m, df_features, features, problem)\n",
    "    \n",
    "    constant_filter = VarianceThreshold(threshold=0)\n",
    "    constant_filter.fit(df_features[features])\n",
    "    constant_columns = [column for column in df_features[features].columns if column not in df_features[features].columns[constant_filter.get_support()]]\n",
    "    print(\"Constant columns: \", constant_columns)\n",
    "    X = df_features[features].loc[:, constant_filter.get_support()]\n",
    "    #fvalues, pvalues = f_regression(X, df_features[\"q\"])\n",
    "    #print(fvalues.shape, pvalues.shape)\n",
    "    df_features[\"q\"] = (df_features[\"q\"] - df_features[\"q\"].mean()) / df_features[\"q\"].std()\n",
    "    m = OLS(df_features[\"q\"], X)\n",
    "    r = m.fit()\n",
    "    print(r.params)\n",
    "    plt.xticks(ha='right', rotation=55, fontsize=8)\n",
    "    sns.barplot(x=X.columns, y=r.params)\n",
    "    plt.title((problem, n, k))\n",
    "    plt.savefig(\"experiments/figures/labels_2h/\"+t+\"_features/\"+filename([problem, n, k, t, ra_feature])+\".jpg\", dpi=200, bbox_inches=\"tight\")\n",
    "    plt.tight_layout()\n",
    "    plt.show()\n",
    "    \n",
    "\n",
    "problems = [\"AT\", \"BW\", \"CM\", \"DP\", \"TA\", \"TL\"]\n",
    "for problem, n, k in [(x, 2, 2) for x in problems]:\n",
    "    plot_features(problem, n, k, \"labels_2h\", last=False, ra_feature=True)\n",
    "    #plot_features(problem, n, k, \"TB_5mill\", last=True, ra_feature=True)"
   ]
  },
  {
   "cell_type": "code",
   "execution_count": null,
   "id": "contained-authority",
   "metadata": {},
   "outputs": [],
   "source": [
    "problem, n, k = \"CM\", 2, 2\n",
    "last = False\n",
    "ra_feature = True\n",
    "dir = \"ra_feature_2h\"\n",
    "\n",
    "problem2, n2, k2 = (problem, 3, 3) if problem != \"CM\" else (problem, 2, 2)\n",
    "df = pd.read_csv(\"experiments/results/\"+filename([problem, n, k])+\"/\"+dir+\"/\"+filename([problem2, n2, k2])+\".csv\")\n",
    "idx = best_agent_idx(df) if not last else last_agent_idx(df)\n",
    "t = \"last\" if last else \"best\"\n",
    "df_features = pd.read_csv(\"experiments/results/\"+filename([problem, n, k])+\"/\"+dir+\"/\"+t+\"_\"+str(idx)+\".csv\")\n",
    "\n",
    "m = LinearRegression()\n",
    "m.fit(df_features[feature_names(ra_feature)], df_features[\"q\"])\n",
    "features = feature_names(ra_feature)\n",
    "print(problem, m.rank_, m.intercept_)\n",
    "print(m.coef_)\n",
    "print(m.score(df_features[feature_names(ra_feature)], df_features[\"q\"]))\n",
    "df_features[\"pred\"] = m.predict(df_features[feature_names(ra_feature)])"
   ]
  },
  {
   "cell_type": "code",
   "execution_count": null,
   "id": "loaded-parish",
   "metadata": {},
   "outputs": [],
   "source": [
    "[]\n",
    "print(np.dot(m.coef_, [ for i in range(14)])+m.intercept_)"
   ]
  },
  {
   "cell_type": "markdown",
   "id": "advised-notice",
   "metadata": {},
   "source": [
    "# Q Distribution"
   ]
  },
  {
   "cell_type": "code",
   "execution_count": null,
   "id": "ordinary-atmosphere",
   "metadata": {},
   "outputs": [],
   "source": [
    "from sklearn.linear_model import LinearRegression\n",
    "\n",
    "def plot_features(problem, n, k, dir, last=False, ra_feature=True):\n",
    "    problem2, n2, k2 = (problem, 3, 3) if problem != \"CM\" else (problem, 2, 2)\n",
    "    df = pd.read_csv(\"experiments/results/\"+filename([problem, n, k])+\"/\"+dir+\"/\"+filename([problem2, n2, k2])+\".csv\")\n",
    "    idx = best_agent_idx(df) if not last else last_agent_idx(df)\n",
    "    t = \"last\" if last else \"best\"\n",
    "    df_features = pd.read_csv(\"experiments/results/\"+filename([problem, n, k])+\"/\"+dir+\"/\"+t+\"_\"+str(idx)+\".csv\")\n",
    "    \n",
    "    df_features[\"q\"].plot(kind='hist');\n",
    "    plt.title((problem, n, k))\n",
    "    #plt.savefig(\"experiments/figures/2h/\"+t+\"_features/\"+filename([problem, n, k, t, ra_feature])+\".jpg\", dpi=200, bbox_inches=\"tight\")\n",
    "    plt.tight_layout()\n",
    "    plt.show()\n",
    "    \n",
    "\n",
    "problems = [\"AT\", \"TA\", \"TL\", \"DP\", \"BW\", \"CM\"]\n",
    "for problem, n, k in [(x, 2, 2) for x in problems]:\n",
    "    plot_features(problem, n, k, \"ra_feature_2h\", last=False, ra_feature=True)\n",
    "    #plot_features(problem, n, k, \"ra_feature_2h\", last=False, ra_feature=False)\n",
    "    #plot_features(problem, n, k, \"ra_feature_2h\", last=True, ra_feature=True)\n",
    "    #plot_features(problem, n, k, \"ra_feature_2h\", last=True, ra_feature=False)"
   ]
  },
  {
   "cell_type": "markdown",
   "id": "indoor-story",
   "metadata": {},
   "source": [
    "## Training time proportional to size"
   ]
  },
  {
   "cell_type": "code",
   "execution_count": 45,
   "id": "handed-topic",
   "metadata": {},
   "outputs": [
    {
     "ename": "KeyError",
     "evalue": "('AT', 2, 2)",
     "output_type": "error",
     "traceback": [
      "\u001b[0;31m---------------------------------------------------------------------------\u001b[0m",
      "\u001b[0;31mKeyError\u001b[0m                                  Traceback (most recent call last)",
      "\u001b[0;32m<ipython-input-45-b3a6651ec2a3>\u001b[0m in \u001b[0;36m<module>\u001b[0;34m\u001b[0m\n\u001b[1;32m     16\u001b[0m             \u001b[0mdfs\u001b[0m\u001b[0;34m[\u001b[0m\u001b[0;34m-\u001b[0m\u001b[0;36m1\u001b[0m\u001b[0;34m]\u001b[0m \u001b[0;34m=\u001b[0m \u001b[0mdfs\u001b[0m\u001b[0;34m[\u001b[0m\u001b[0;34m-\u001b[0m\u001b[0;36m1\u001b[0m\u001b[0;34m]\u001b[0m\u001b[0;34m.\u001b[0m\u001b[0mloc\u001b[0m\u001b[0;34m[\u001b[0m\u001b[0mdfs\u001b[0m\u001b[0;34m[\u001b[0m\u001b[0;34m-\u001b[0m\u001b[0;36m1\u001b[0m\u001b[0;34m]\u001b[0m\u001b[0;34m[\u001b[0m\u001b[0;34m\"idx\"\u001b[0m\u001b[0;34m]\u001b[0m \u001b[0;34m%\u001b[0m \u001b[0;36m5\u001b[0m \u001b[0;34m==\u001b[0m \u001b[0;36m0\u001b[0m\u001b[0;34m]\u001b[0m\u001b[0;34m\u001b[0m\u001b[0;34m\u001b[0m\u001b[0m\n\u001b[1;32m     17\u001b[0m         \u001b[0mdf_preprocess\u001b[0m\u001b[0;34m(\u001b[0m\u001b[0mdfs\u001b[0m\u001b[0;34m[\u001b[0m\u001b[0;34m-\u001b[0m\u001b[0;36m1\u001b[0m\u001b[0;34m]\u001b[0m\u001b[0;34m,\u001b[0m \u001b[0;36m1\u001b[0m\u001b[0;34m,\u001b[0m \u001b[0;36m8\u001b[0m\u001b[0;34m)\u001b[0m\u001b[0;34m\u001b[0m\u001b[0;34m\u001b[0m\u001b[0m\n\u001b[0;32m---> 18\u001b[0;31m         \u001b[0msize\u001b[0m \u001b[0;34m=\u001b[0m \u001b[0mmonolithic_results\u001b[0m\u001b[0;34m[\u001b[0m\u001b[0;34m(\u001b[0m\u001b[0mproblem2\u001b[0m\u001b[0;34m,\u001b[0m \u001b[0mn2\u001b[0m\u001b[0;34m,\u001b[0m \u001b[0mk2\u001b[0m\u001b[0;34m)\u001b[0m\u001b[0;34m]\u001b[0m\u001b[0;34m\u001b[0m\u001b[0;34m\u001b[0m\u001b[0m\n\u001b[0m\u001b[1;32m     19\u001b[0m         \u001b[0mdfs\u001b[0m\u001b[0;34m[\u001b[0m\u001b[0;34m-\u001b[0m\u001b[0;36m1\u001b[0m\u001b[0;34m]\u001b[0m \u001b[0;34m=\u001b[0m \u001b[0mdfs\u001b[0m\u001b[0;34m[\u001b[0m\u001b[0;34m-\u001b[0m\u001b[0;36m1\u001b[0m\u001b[0;34m]\u001b[0m\u001b[0;34m.\u001b[0m\u001b[0mloc\u001b[0m\u001b[0;34m[\u001b[0m\u001b[0mdfs\u001b[0m\u001b[0;34m[\u001b[0m\u001b[0;34m-\u001b[0m\u001b[0;36m1\u001b[0m\u001b[0;34m]\u001b[0m\u001b[0;34m[\u001b[0m\u001b[0;34m\"training steps\"\u001b[0m\u001b[0;34m]\u001b[0m \u001b[0;34m<\u001b[0m \u001b[0msize\u001b[0m \u001b[0;34m*\u001b[0m \u001b[0;36m10000\u001b[0m\u001b[0;34m]\u001b[0m\u001b[0;34m\u001b[0m\u001b[0;34m\u001b[0m\u001b[0m\n\u001b[1;32m     20\u001b[0m         \u001b[0mdfs\u001b[0m\u001b[0;34m[\u001b[0m\u001b[0;34m-\u001b[0m\u001b[0;36m1\u001b[0m\u001b[0;34m]\u001b[0m\u001b[0;34m[\u001b[0m\u001b[0;34m\"file\"\u001b[0m\u001b[0;34m]\u001b[0m \u001b[0;34m=\u001b[0m \u001b[0mfile\u001b[0m\u001b[0;34m\u001b[0m\u001b[0;34m\u001b[0m\u001b[0m\n",
      "\u001b[0;31mKeyError\u001b[0m: ('AT', 2, 2)"
     ]
    }
   ],
   "source": [
    "problems = [\"AT\", \"BW\", \"CM\", \"DP\", \"TA\", \"TL\"]\n",
    "problems = [\"AT\", \"DP\"]\n",
    "#files = [\"1mill\", \"T_1mill\", \"B_1mill\", \"TB_1mill\"]\n",
    "#files = [\"TB_5mill\", \"ra_feature2opt_2h\", \"base_features_2h\"]\n",
    "#files = [\"ra_feature2opt_2h\"]\n",
    "files = [\"base_features_2h\", \"ra_feature2opt_2h\", \"5mill_RA\", \"5mill_L\", \"5mill_C\"]\n",
    "#files = [\"TB_5mill\", \"labels_2h\"]\n",
    "\n",
    "for problem, n, k in [(x, 2, 2) for x in problems]:\n",
    "    problem2, n2, k2 = problem, 2, 2\n",
    "    \n",
    "    dfs = []\n",
    "    for file in files:\n",
    "        dfs.append(pd.read_csv(\"experiments/results/\"+filename([problem, n, k])+\"/\"+file+\"/\"+filename([problem2, n2, k2])+\".csv\"))\n",
    "        if problem == \"TA\" and n2 == 3:\n",
    "            dfs[-1] = dfs[-1].loc[dfs[-1][\"idx\"] % 5 == 0]\n",
    "        df_preprocess(dfs[-1], 1, 8)\n",
    "        size = monolithic_results[(problem2, n2, k2)]\n",
    "        dfs[-1] = dfs[-1].loc[dfs[-1][\"training steps\"] < size * 10000]\n",
    "        dfs[-1][\"file\"] = file\n",
    "        # print(problem, file, dfs[-1][\"synthesis time(ms)\"].dropna().min(), \"(ms)\")\n",
    "        print(problem, file, dfs[-1][\"expanded transitions\"].dropna().min(), \"(trans)\")\n",
    "        print(list(dfs[-1].loc[dfs[-1][\"expanded transitions\"] == dfs[-1][\"expanded transitions\"].min()][\"idx\"]))\n",
    "        if problem == \"CM\" and n2 == 3:\n",
    "            print(dfs[-1].dropna(subset=[\"expanded transitions\"])[[\"idx\", \"expanded transitions\"]])\n",
    "    df = pd.concat(dfs, ignore_index=True)\n",
    "    \n",
    "    sns.lineplot(data = df, x=\"rounded training steps\", y=\"mean transitions\", hue=\"file\")\n",
    "    \n",
    "    plot_ra_expanded_transitions(problem2, n2, k2, norm=False)\n",
    "    plot_random_expanded_transitions(problem2, n2, k2, norm=False, label=\"Random mean\")\n",
    "    plot_random_expanded_transitions(problem2, n2, k2, norm=False, use_min=True, label=\"Random min\")\n",
    "    plt.title(\" \".join([problem, str(n), str(k), \"->\", problem2, str(n2), str(k2)]))\n",
    "    #plt.savefig(\"experiments/figures/sin bug/\"+filename([problem2, n2, k2])+\"_best_trans.jpg\", dpi=200)\n",
    "    plt.show()"
   ]
  },
  {
   "cell_type": "markdown",
   "id": "dangerous-metabolism",
   "metadata": {},
   "source": [
    "## Testing all agents generalization"
   ]
  },
  {
   "cell_type": "code",
   "execution_count": 106,
   "id": "understood-sheriff",
   "metadata": {},
   "outputs": [
    {
     "name": "stdout",
     "output_type": "stream",
     "text": [
      "(60, 15535.0, 73)\n"
     ]
    },
    {
     "data": {
      "image/png": "[encoded data removed]",
      "text/plain": [
       "<Figure size 432x288 with 1 Axes>"
      ]
     },
     "metadata": {
      "needs_background": "light"
     },
     "output_type": "display_data"
    },
    {
     "data": {
      "image/png": "[encoded data removed]",
      "text/plain": [
       "<Figure size 432x288 with 1 Axes>"
      ]
     },
     "metadata": {
      "needs_background": "light"
     },
     "output_type": "display_data"
    }
   ],
   "source": [
    "file = \"5mill_C\"\n",
    "problem = \"AT\"\n",
    "df = pd.read_csv(\"experiments/results/\"+filename([problem, 2, 2])+\"/\"+file+\"/generalization_all.csv\")\n",
    "solved = [0 for i in range(101)]\n",
    "expanded = [0 for i in range(101)]\n",
    "for x, cant in dict(df[\"idx\"].value_counts()).items():\n",
    "    solved[x] = cant\n",
    "for x, cant in dict(df.groupby(\"idx\")[\"expanded transitions\"].sum()).items():\n",
    "    expanded[x] = cant\n",
    "perf = [(solved[i], expanded[i], i) for i in range(101)]\n",
    "perf = sorted(perf, key=lambda t: (-t[0], t[1], t[2]))\n",
    "print(perf[0])\n",
    "\n",
    "sns.lineplot(x=np.arange(101), y=solved)\n",
    "plt.show()\n",
    "sns.lineplot(data=df.loc[(df[\"n\"]==3)&(df[\"k\"]==3)], x=\"idx\", y=\"expanded transitions\")\n",
    "plt.show()"
   ]
  },
  {
   "cell_type": "markdown",
   "id": "dominant-steal",
   "metadata": {},
   "source": [
    "## Training complexity"
   ]
  },
  {
   "cell_type": "code",
   "execution_count": null,
   "id": "nearby-wealth",
   "metadata": {},
   "outputs": [],
   "source": [
    "\n",
    "files = [\"ra_feature2_target\", \"ra_feature2_2h\"]\n",
    "\n",
    "problems = [\"AT\", \"TA\", \"TL\", \"DP\", \"BW\"]\n",
    "for problem, n, k in [(x, 2, 2) for x in problems]:\n",
    "    problem2, n2, k2 = problem, 2, 2\n",
    "    dfs = []\n",
    "    for file in files:\n",
    "        dfs.append(pd.read_csv(\"experiments/results/\"+filename([problem, n, k])+\"/\"+file+\"/\"+filename([problem2, n2, k2])+\".csv\"))\n",
    "        dfs[-1][\"file\"] = file\n",
    "        print(dfs[-1][\"training steps\"].max())\n",
    "    df = pd.concat(dfs, ignore_index=True)\n",
    "    sns.scatterplot(data=df, x=\"training time\", y=\"training steps\", hue = \"file\")\n",
    "    plt.title(\" \".join([problem, str(n), str(k)]))\n",
    "    plt.show()\n",
    "    "
   ]
  },
  {
   "cell_type": "markdown",
   "id": "united-whale",
   "metadata": {},
   "source": [
    "# Exploration complexity"
   ]
  },
  {
   "cell_type": "code",
   "execution_count": null,
   "id": "crazy-indication",
   "metadata": {},
   "outputs": [],
   "source": [
    "problems = [\"AT\", \"TA\", \"BW\", \"TL\", \"DP\"]\n",
    "f, axs = plt.subplots(1, len(problems), figsize=(5*len(problems), 6))\n",
    "\n",
    "for i in range(len(problems)):\n",
    "    df_agent = pd.read_csv(\"experiments/results 25 mar/\"+filename([problems[i], 2, 2])+\"/Agent15.csv\")\n",
    "    df_ra = pd.read_csv(\"experiments/results 25 mar/\"+filename([problems[i], 2, 2])+\"/RA15.csv\")\n",
    "    df_agent[\"approach\"] = \"Agent\"\n",
    "    df_ra[\"approach\"] = \"RA\"\n",
    "    \n",
    "    sns.lineplot(data=pd.concat([df_agent, df_ra], ignore_index=True), x=\"expanded transitions\", y=\"synthesis time(ms)\", ax=axs[i], hue=\"approach\")\n",
    "    axs[i].set_title(problems[i], fontsize=30)\n",
    "\n",
    "plt.tight_layout()\n",
    "#plt.savefig(\"experiments/figures/overhead.jpg\", dpi=200)\n",
    "plt.show()"
   ]
  },
  {
   "cell_type": "markdown",
   "id": "enhanced-constraint",
   "metadata": {},
   "source": [
    "## Frontier sizes"
   ]
  },
  {
   "cell_type": "code",
   "execution_count": 43,
   "id": "equipped-algorithm",
   "metadata": {},
   "outputs": [
    {
     "name": "stdout",
     "output_type": "stream",
     "text": [
      "91.0\n",
      "25\n",
      "132.0\n",
      "51\n",
      "5044.0\n",
      "358\n",
      "335.0\n",
      "48\n",
      "344.0\n",
      "87\n",
      "1259.0\n",
      "250\n"
     ]
    },
    {
     "data": {
      "image/png": "[encoded data removed]",
      "text/plain": [
       "<Figure size 432x288 with 1 Axes>"
      ]
     },
     "metadata": {
      "needs_background": "light"
     },
     "output_type": "display_data"
    }
   ],
   "source": [
    "problems = [\"AT\", \"BW\", \"CM\", \"DP\", \"TA\", \"TL\"]\n",
    "n, k = 2, 2\n",
    "ra_feature = False\n",
    "dfs = []\n",
    "for problem in problems:\n",
    "    if problem == \"CM\" and n == 3:\n",
    "        continue\n",
    "    mono = monolithic_results[\"expanded transitions\", problem][n][k]\n",
    "    print(mono)\n",
    "    df = pd.read_csv(\"experiments/results/\"+filename([problem, n, k])+\"/frontiers\"+(\"RA\" if ra_feature else \"\")+\".csv\")\n",
    "    df[\"problem\"] = problem\n",
    "    print(df[\"frontier size\"].max())\n",
    "    df[\"rel frontier size\"] = df[\"frontier size\"] / mono\n",
    "    df[\"frontier size / expanded\"] = df[\"frontier size\"] / df[\"step\"].max()\n",
    "    df[\"rel step\"] = df[\"step\"] / df[\"step\"].max()\n",
    "    dfs.append(df)\n",
    "df = pd.concat(dfs, ignore_index=True)\n",
    "sns.lineplot(data=df, x=\"rel step\", y=\"frontier size\", hue=\"problem\", ci=None)\n",
    "plt.savefig(\"experiments/figures/frontiers/sin RA/\"+filename([n, k])+\".jpg\", dpi=200)\n",
    "plt.show()"
   ]
  },
  {
   "cell_type": "code",
   "execution_count": 34,
   "id": "fifth-pursuit",
   "metadata": {},
   "outputs": [
    {
     "name": "stdout",
     "output_type": "stream",
     "text": [
      "1262 746\n",
      "5136 4246\n",
      "3225 2337\n",
      "4986 4171\n",
      "4041 3938\n"
     ]
    }
   ],
   "source": [
    "problem, n, k = \"TL\", 3, 3\n",
    "ra_feature = True\n",
    "mono = monolithic_results[\"expanded transitions\", problem][n][k]\n",
    "#print(mono)\n",
    "df = pd.read_csv(\"experiments/results/\"+filename([problem, n, k])+\"/frontiers\"+(\"RA\" if ra_feature else \"\")+\".csv\")\n",
    "df[\"problem\"] = problem\n",
    "#print(df[\"frontier size\"].max())\n",
    "df[\"rel frontier size\"] = df[\"frontier size\"] / mono\n",
    "df[\"frontier size / expanded\"] = df[\"frontier size\"] / df[\"step\"].max()\n",
    "df[\"rel step\"] = df[\"step\"] / df[\"step\"].max()\n",
    "\n",
    "for ep in range(1, 6):\n",
    "    dfloc = df.loc[df[\"ep\"] == ep]\n",
    "    print(dfloc[\"frontier size\"].max(), dfloc[\"step\"].max())"
   ]
  },
  {
   "cell_type": "markdown",
   "id": "breeding-office",
   "metadata": {},
   "source": [
    "# RA refactor"
   ]
  },
  {
   "cell_type": "code",
   "execution_count": null,
   "id": "spread-honey",
   "metadata": {},
   "outputs": [],
   "source": [
    "def plot_heatmap_time(df, ax, file):\n",
    "    dfp = df.pivot(\"n\", \"k\", \"synthesis time(ms)\")\n",
    "    if file == \"all_r_15.csv\":\n",
    "        for n in range(2, 16):\n",
    "            for k in range(2, 16):\n",
    "                if np.isnan(dfp[n-1][k]) or np.isnan(dfp[n][k-1]):\n",
    "                    dfp[n][k] = np.NaN\n",
    "    sns.heatmap(data=dfp, cmap=sns.cm.rocket_r, ax=ax, xticklabels=range(1, 16), yticklabels=range(1, 16), vmin=0, vmax=500000)\n",
    "    ax.set_ylim(0, 15)\n",
    "    ax.set_xlim(0, 15)\n",
    "        \n",
    "\n",
    "problems = [\"AT\", \"TA\", \"BW\", \"TL\", \"DP\", \"CM\"]\n",
    "files = [(\"all_ra_old_15_old.csv\", \"Pre-Refactor\"), (\"all_ra_afterfix_15.csv\", \"Afterfix\")]\n",
    "f, axs = plt.subplots(len(files), len(problems), figsize = (5*len(problems), 5*len(files)))\n",
    "\n",
    "\n",
    "for i in range(len(files)):\n",
    "    file, name = files[i]\n",
    "    for j in range(len(problems)):\n",
    "        df = pd.read_csv(\"experiments/results/\"+filename([problems[j], 2, 2])+\"/\"+file)\n",
    "        plot_heatmap_time(df, axs[i][j], file)\n",
    "    axs[i][0].set_ylabel(files[i][1], fontsize=30)\n",
    "for i in range(len(problems)):\n",
    "    axs[0][i].set_title(problems[i], fontsize=24)\n",
    "plt.tight_layout()\n",
    "#plt.savefig(\"experiments/figures/refactor_and_fix.jpg\", dpi=200)\n",
    "plt.show()"
   ]
  },
  {
   "cell_type": "markdown",
   "id": "continued-digit",
   "metadata": {},
   "source": [
    "# Heuristic time"
   ]
  },
  {
   "cell_type": "code",
   "execution_count": null,
   "id": "rapid-short",
   "metadata": {},
   "outputs": [],
   "source": [
    "def get_comp_solved_df(df_agent_p, df_ra_p):\n",
    "    df1 = df_agent_p.fillna(float(\"inf\"))\n",
    "    df2 = df_ra_p.fillna(float(\"inf\"))\n",
    "    df1 = df1 != float(\"inf\")\n",
    "    df2 = df2 != float(\"inf\")\n",
    "    return 1*((df1 == df2) & df1) + 2*(df2 > df1) + 3*(df1 > df2)\n",
    "\n",
    "problems = [\"AT\", \"TA\", \"BW\", \"TL\", \"DP\"]\n",
    "f, axs = plt.subplots(1, len(problems), figsize=(10*len(problems), 12))\n",
    "\n",
    "\n",
    "for i in range(len(problems)):\n",
    "    df_agent = pd.read_csv(\"experiments/results/\"+filename([problems[i], 2, 2])+\"/labels_2h/all.csv\")\n",
    "    df_agent = fill_df(df_agent, 15)\n",
    "    df_agent[\"heuristic time rel\"] = df_agent[\"heuristic time(ms)\"] / df_agent[\"synthesis time(ms)\"]\n",
    "    df_agent_p = df_agent.pivot(\"n\", \"k\", \"heuristic time rel\")\n",
    "    sns.heatmap(data=df_agent_p, ax=axs[i], cmap=sns.cm.rocket_r, annot=True)\n",
    "    axs[i].invert_yaxis()\n",
    "    axs[i].set_title(problems[i], fontsize=30)\n",
    "\n",
    "plt.tight_layout()\n",
    "#plt.savefig(\"experiments/figures/agent_heuristic_time.jpg\", dpi=200)\n",
    "plt.show()"
   ]
  },
  {
   "cell_type": "markdown",
   "id": "opposite-verification",
   "metadata": {},
   "source": [
    "# 15 15 Generalization"
   ]
  },
  {
   "cell_type": "code",
   "execution_count": 84,
   "id": "juvenile-trustee",
   "metadata": {},
   "outputs": [
    {
     "data": {
      "image/png": "[encoded data removed]",
      "text/plain": [
       "<Figure size 2160x432 with 6 Axes>"
      ]
     },
     "metadata": {
      "needs_background": "light"
     },
     "output_type": "display_data"
    }
   ],
   "source": [
    "def get_comp_solved_df(agent, ra):\n",
    "    only_ra = ((agent == float(\"inf\")) & (ra != float(\"inf\")))\n",
    "    only_agent = ((agent != float(\"inf\")) & (ra == float(\"inf\")))\n",
    "    both = ((agent != float(\"inf\")) & (ra != float(\"inf\")))\n",
    "    \n",
    "    return only_ra*1 + only_agent*2 + both*(3*(agent > ra) + 4*(agent == ra) + 5*(agent < ra))\n",
    "\n",
    "def onlyifsolvedlast(res):\n",
    "    for n in range(1, 16):\n",
    "        for k in range(1, 16):\n",
    "            if (n > 1 and res[n-1][k] == float(\"inf\")) or (k > 1 and res[n][k-1] == float(\"inf\")):\n",
    "                res[n][k] = float(\"inf\")\n",
    "    return res\n",
    "\n",
    "def df_agent(problem, agent_file):\n",
    "    df_agent = pd.read_csv(\"experiments/results/\"+filename([problems[i], 2, 2])+\"/\"+agent_file)\n",
    "    #df_agent = pd.read_csv(\"experiments/results 25 mar/\"+filename([problems[i], 2, 2])+\"/all_e_15.csv\")\n",
    "    df_agent = fill_df(df_agent, 15)\n",
    "    agent_t = df_agent.pivot(\"n\", \"k\", \"expanded transitions\")\n",
    "    agent_t = agent_t.fillna(float(\"inf\"))\n",
    "    return onlyifsolvedlast(agent_t)\n",
    "    \n",
    "def df_comp(problem, comp_df):\n",
    "    comp_t = comp_df[\"expanded transitions\", problems[i]]\n",
    "    comp_t = comp_t.fillna(float(\"inf\"))\n",
    "    return onlyifsolvedlast(comp_t)\n",
    "\n",
    "#df1 = lambda problem: df_agent(problem, \"5mill_C/all.csv\")\n",
    "#df1 = lambda problem: df_agent(problem, \"all_ra_afterfix_15.csv\")\n",
    "df1 = lambda problem: df_comp(problem, ra_sola_results)\n",
    "\n",
    "#df2 = lambda problem: df_agent(problem, \"5mill_L/all.csv\")\n",
    "#df2 = lambda problem: df_comp(problem, ra_sola_results)\n",
    "df2 = lambda problem: df_comp(problem, random_results)\n",
    "\n",
    "problems = [\"AT\", \"TA\", \"BW\", \"TL\", \"DP\", \"CM\"]\n",
    "#problems = [\"AT\", \"DP\"]\n",
    "#problems = [\"AT\"]\n",
    "f, axs = plt.subplots(1, len(problems), figsize=(5*len(problems), 6))\n",
    "\n",
    "for i in range(len(problems)):\n",
    "    \n",
    "    grey = \"#d0e1d4\"\n",
    "    red = \"#ed6a5a\"\n",
    "    blue = \"#008bf8\"\n",
    "    green = \"#08a045\"\n",
    "    green1 = \"#adc178\"\n",
    "    green2 = \"#045c27\"\n",
    "    sns.heatmap(data=get_comp_solved_df(df1(problem), df2(problem)), cmap=[grey, red, blue, green, green1, green2], vmin=0, vmax=5, ax=axs[i], cbar=False)\n",
    "    axs[i].invert_yaxis()\n",
    "    axs[i].set_title(problems[i], fontsize=30)\n",
    "\n",
    "plt.tight_layout()\n",
    "plt.savefig(\"experiments/figures/generalization/ra_sola_vs_random.jpg\", dpi=200)\n",
    "plt.show()"
   ]
  },
  {
   "cell_type": "code",
   "execution_count": null,
   "id": "electoral-member",
   "metadata": {},
   "outputs": [],
   "source": [
    "df = []\n",
    "for key, time in monolithic_results.items():\n",
    "    problem, n, k = key\n",
    "    df.append({\"problem\": problem, \"n\": n, \"k\": k, \"synthesis time(ms)\": time})\n",
    "df = pd.DataFrame(df)\n",
    "df[\"synthesis time(ms)\"] = df.apply(lambda r: np.nan if r[\"synthesis time(ms)\"] > 10*60*1000 else r[\"synthesis time(ms)\"], axis=1)\n",
    "df_mono = df\n",
    "\n",
    "problems = [\"AT\", \"BW\", \"CM\"]\n",
    "f, axs = plt.subplots(2, len(problems), figsize=(5*len(problems), 12))\n",
    "\n",
    "for i in range(len(problems)):\n",
    "    df_agent = pd.read_csv(\"experiments/results/\"+filename([problems[i], 2, 2])+\"/TB_5mill/all.csv\")\n",
    "    df_agent = fill_df(df_agent, 15)\n",
    "    agent_t = df_agent.pivot(\"n\", \"k\", \"expanded transitions\")\n",
    "    ra_t = ra_results[\"expanded transitions\", problems[i]]\n",
    "    agent_t = agent_t.fillna(float(\"inf\"))\n",
    "    ra_t = ra_t.fillna(float(\"inf\"))\n",
    "    \n",
    "    sns.heatmap(data=agent_t, vmin=0, vmax=100000, ax=axs[0][i], cmap=sns.cm.rocket_r)\n",
    "    sns.heatmap(data=ra_t, vmin=0, vmax=100000, ax=axs[1][i], cmap=sns.cm.rocket_r)\n",
    "    axs[0][i].invert_yaxis()\n",
    "    axs[1][i].invert_yaxis()\n",
    "    axs[0][i].set_title(problems[i], fontsize=30)\n",
    "axs[0][0].set_ylabel(\"Agent\", fontsize=30)\n",
    "axs[1][0].set_ylabel(\"RA\", fontsize=30)\n",
    "\n",
    "plt.tight_layout()\n",
    "#plt.savefig(\"experiments/figures/test_solved_mono.jpg\", dpi=200)\n",
    "plt.show()"
   ]
  },
  {
   "cell_type": "markdown",
   "id": "afraid-shannon",
   "metadata": {},
   "source": [
    "# Agent vs RA 15 separated"
   ]
  },
  {
   "cell_type": "code",
   "execution_count": null,
   "id": "fifty-replication",
   "metadata": {},
   "outputs": [],
   "source": [
    "def plot_heatmap_trans(df, ax):\n",
    "    dfp = df.pivot(\"n\", \"k\", \"expanded transitions\")\n",
    "    sns.heatmap(data=dfp, cmap=sns.cm.rocket_r, ax=ax, vmin=0, vmax=100000)\n",
    "    ax.invert_yaxis()\n",
    "\n",
    "def plot_heatmap_time(df, ax):\n",
    "    dfp = df.pivot(\"n\", \"k\", \"synthesis time(ms)\")\n",
    "    sns.heatmap(data=dfp, cmap=sns.cm.rocket_r, ax=ax, xticklabels=range(1, 16), yticklabels=range(1, 16))\n",
    "    ax.set_ylim(0, 15)\n",
    "    ax.set_xlim(0, 15)\n",
    "\n",
    "problems = [\"AT\", \"TA\", \"BW\", \"TL\", \"DP\"]\n",
    "files = [(\"Agent15.csv\", \"Agent\"), (\"RA15.csv\", \"RA\")]\n",
    "f, axs = plt.subplots(len(files), len(problems), figsize = (5*len(problems), 5*len(files)))\n",
    "\n",
    "\n",
    "for i in range(len(files)):\n",
    "    file, name = files[i]\n",
    "    for j in range(len(problems)):\n",
    "        df = pd.read_csv(\"experiments/results 25 mar/\"+filename([problems[j], 2, 2])+\"/\"+file)\n",
    "        plot_heatmap_time(df, ax=axs[i][j])\n",
    "    axs[i][0].set_ylabel(files[i][1], fontsize=30)\n",
    "for i in range(len(problems)):\n",
    "    axs[0][i].set_title(problems[i], fontsize=24)\n",
    "plt.tight_layout()\n",
    "#plt.savefig(\"experiments/figures/test_all_time.jpg\", dpi=200)\n",
    "plt.show()"
   ]
  },
  {
   "cell_type": "markdown",
   "id": "small-colombia",
   "metadata": {},
   "source": [
    "# Eta y epsilon (deprecated)"
   ]
  },
  {
   "cell_type": "code",
   "execution_count": null,
   "id": "peaceful-currency",
   "metadata": {},
   "outputs": [],
   "source": [
    "df = []\n",
    "for problem, n, k in [(\"AT\", 2, 2)]:\n",
    "    for eta in [1e-3, 1e-4, 1e-5, 1e-6]:\n",
    "        for eps in [0.05, 0.1]:\n",
    "            for it in range(2):\n",
    "                df.append(pd.read_csv(\"experiments/results 25 mar/\"+filename([problem, n, k])+\"/\"+filename([\"eta\", eta, it, eps])+\".csv\"))\n",
    "                df[-1][\"eta\"] = eta\n",
    "                df[-1][\"it\"] = it\n",
    "                df[-1][\"eps\"] = eps\n",
    "df = pd.concat(df, ignore_index=True)\n",
    "df_preprocess(df, 500)\n",
    "\n",
    "def plot_params(eta, eps):\n",
    "    y_axis = \"expanded transitions / total\"\n",
    "    dfplot = df.loc[(df[\"eta\"]==eta) & (df[\"eps\"]==eps)]\n",
    "    #dfplot = dfplot.loc[dfplot[\"it\"] == 1]\n",
    "    \n",
    "    plot_ra_expanded_transitions(\"AT\", 2, 2, norm=True, color=\"r\")\n",
    "    plot_ra_expanded_transitions(\"AT\", 3, 3, norm=True, color=\"b\")\n",
    "    \n",
    "    sns.lineplot(data=dfplot, x=\"rounded training time\", y=y_axis, hue=\"instance\", ci=None, palette=\"Set1\")\n",
    "    plt.title((eta, eps))\n",
    "    plt.show()\n",
    "    \n",
    "def plot_params_comparison(n, k):\n",
    "    y_axis = \"expanded transitions\"\n",
    "    dfplot = df.loc[(df[\"n\"]==n) & (df[\"eta\"]<=1e-4)]\n",
    "    #dfplot = dfplot.loc[dfplot[\"it\"] == 1]\n",
    "    \n",
    "    plot_ra_expanded_transitions(\"AT\", n, k, norm=False, color=\"black\")\n",
    "    \n",
    "    \n",
    "    sns.lineplot(data=dfplot, x=\"rounded training time\", y=y_axis, hue=\"eta\", ci=None, palette=\"Set1\")\n",
    "    plt.title((eta, eps))\n",
    "    plt.show()\n",
    "\n",
    "#plot_params(1e-5, 0.05)\n",
    "#plot_params(1e-6, 0.05)\n",
    "#plot_params(1e-5, 0.1)\n",
    "#plot_params(1e-6, 0.1)\n",
    "#plot_params(1e-5, 0.05)\n",
    "\n",
    "plot_params_comparison(2, 2)"
   ]
  },
  {
   "cell_type": "markdown",
   "id": "democratic-incident",
   "metadata": {},
   "source": [
    "# Feature distribution"
   ]
  },
  {
   "cell_type": "code",
   "execution_count": null,
   "id": "extra-humidity",
   "metadata": {},
   "outputs": [],
   "source": [
    "n = 2\n",
    "states_file = \"states_context.pkl\"\n",
    "dfs = []\n",
    "problems = [\"AT\", \"BW\", \"DP\", \"TA\", \"TL\", \"CM\"]\n",
    "for problem in problems:\n",
    "    features = feature_names({\"ra feature\": True, \"context features\": True}, problem)\n",
    "    df = {name: [] for name in features}\n",
    "    with open(\"experiments/results/\"+filename([problem, n, n])+\"/\"+states_file, \"rb\") as f:\n",
    "        states = pickle.load(f)\n",
    "    for s in states:\n",
    "        for a in s:\n",
    "            for i in range(len(features)):\n",
    "                df[features[i]].append(a[i])\n",
    "    df = pd.DataFrame(df)\n",
    "    df[\"problem\"] = problem\n",
    "    dfs.append(df)\n",
    "    print(problem, df[\"in open\"].sum(), df[\"in open\"].sum() / df.shape[0])\n",
    "\n",
    "df = pd.concat(dfs, ignore_index=True)"
   ]
  },
  {
   "cell_type": "code",
   "execution_count": null,
   "id": "pressing-business",
   "metadata": {},
   "outputs": [],
   "source": [
    "print(df.columns)"
   ]
  },
  {
   "cell_type": "code",
   "execution_count": null,
   "id": "caroline-virginia",
   "metadata": {},
   "outputs": [],
   "source": [
    "print(((df[\"action controllable\"] > 0.5) & (df[\"ra type best\"] > 0.75)).sum())"
   ]
  },
  {
   "cell_type": "code",
   "execution_count": null,
   "id": "determined-dating",
   "metadata": {},
   "outputs": [],
   "source": [
    "problem = \"TL\"\n",
    "dfp = df.loc[df[\"problem\"] == problem]\n",
    "features = feature_names({\"ra feature\": True, \"context features\": True}, problem)\n",
    "for name in features:\n",
    "    dfp[name].plot(kind='hist');\n",
    "    plt.title((name, problem))\n",
    "    plt.show()"
   ]
  },
  {
   "cell_type": "code",
   "execution_count": null,
   "id": "constitutional-question",
   "metadata": {},
   "outputs": [],
   "source": [
    "def plot_generalization(df, x=\"training time\"):\n",
    "    plot_ra_expanded_transitions(df[\"problem\"].iloc[0], 2, 2, norm=True, color=\"r\", label=None)\n",
    "    plot_ra_expanded_transitions(df[\"problem\"].iloc[0], 3, 3, norm=True, color=\"b\", label=None)\n",
    "    sns.lineplot(data=df, x=x, y=\"expanded transitions / total\", hue=\"instance\", palette=[\"r\", \"b\"], ci=None)\n",
    "    plt.xlabel(x, fontsize=14)\n",
    "    plt.ylabel(\"expanded transitions / total\", fontsize=14)\n",
    "    plt.title(\" \".join([problem, str(n), str(k)]))\n",
    "    plt.ylim((0, 1))\n",
    "    plt.tight_layout()\n",
    "\n",
    "def plot_3_3(df):\n",
    "    plot_ra_expanded_transitions(df[\"problem\"].iloc[0], 3, 3, norm=True, color=\"b\", label=None)\n",
    "    sns.lineplot(data=df.loc[df[\"n\"] == 3], x=\"rounded training time\", y=\"expanded transitions / total\", color=\"b\", ci=None)\n",
    "    plt.xlabel(\"training time\", fontsize=14)\n",
    "    plt.ylabel(\"expanded transitions / total\", fontsize=14)\n",
    "    #plt.title(\" \".join([problem, str(n), str(k)]))\n",
    "    plt.ylim((0, 1))\n",
    "    plt.tight_layout()\n",
    "    plt.savefig(\"experiments/figures/trans_3_3/\"+filename([problem, n, k, \"trans_3_3\"])+\".png\", dpi=200)\n",
    "    plt.show()    \n",
    "\n",
    "def plot_2_2(df):\n",
    "    plot_ra_expanded_transitions(df[\"problem\"].iloc[0], 2, 2, norm=True, color=\"r\", label=None)\n",
    "    sns.lineplot(data=df.loc[df[\"n\"] == 2], x=\"rounded training time\", y=\"expanded transitions / total\", color=\"r\", ci=None)\n",
    "    plt.xlabel(\"training time\", fontsize=14)\n",
    "    plt.ylabel(\"expanded transitions / total\", fontsize=14)\n",
    "    #plt.title(\" \".join([problem, str(n), str(k)]))\n",
    "    plt.ylim((0, 1))\n",
    "    plt.tight_layout()\n",
    "    plt.savefig(\"experiments/figures/trans_2_2/\"+filename([problem, n, k, \"trans_2_2\"])+\".png\", dpi=200)\n",
    "    plt.show()  \n",
    "    \n",
    "def plot_q(df):\n",
    "    df2_2 = df.loc[df[\"n\"] == 2]\n",
    "    sns.lineplot(data=df2_2, x=\"rounded training time\", y=\"expanded transitions\", label=\"test\")\n",
    "    sns.lineplot(data=df2_2, x=\"rounded training time\", y=\"avg q\", label=\"avg q\")\n",
    "    plt.xlabel(\"training time\")\n",
    "    plt.title(\" \".join([problem, str(n), str(k)]))\n",
    "    plt.tight_layout()\n",
    "    plt.savefig(\"experiments/figures/q/\"+filename([problem, n, k, \"q\"])+\".jpg\", dpi=200)\n",
    "    plt.show()\n",
    "    \n",
    "def plot_features(df, features, ra_feature, dir=None):\n",
    "    df2_2 = df.loc[df[\"n\"] == 2]\n",
    "    fig = plt.figure(figsize=(10, 5), dpi=200)\n",
    "    for feature in features:\n",
    "        df2_2[feature] = -df2_2[feature]\n",
    "        sns.lineplot(data=df2_2, x=\"rounded training time\", y=feature, label=feature)\n",
    "    \n",
    "    plt.xlabel(\"training time\")\n",
    "    plt.title((problem, n, k, ra_feature))\n",
    "    plt.tight_layout()\n",
    "    if dir is not None:\n",
    "        plt.savefig(\"experiments/figures/\"+dir+\"/features evolution/\"+filename([problem, n, k, ra_feature])+\".jpg\", dpi=200)\n",
    "    plt.show()\n",
    "    \n",
    "def plot_features_best(df, ra_feature, n, dir=None, last=False):\n",
    "    names = feature_names(ra_feature)\n",
    "    df = df.loc[df[\"n\"] == n]\n",
    "    if last:\n",
    "        idx = df[\"idx\"].max()\n",
    "    else:\n",
    "        idx = df.loc[df[\"expanded transitions\"] == df[\"expanded transitions\"].min()][\"idx\"].iloc[0]\n",
    "    features = dict(-df.loc[df[\"idx\"] == idx].iloc[0][names])\n",
    "    \n",
    "    fig = plt.figure(figsize=(10, 6), dpi=200)\n",
    "    plt.bar(x=features.keys(), height=features.values(), width=0.3)\n",
    "    plt.xticks(ha='right', rotation=55, fontsize=10)\n",
    "    plt.title((problem, n, n, \"idx = \"+str(idx)))\n",
    "    plt.tight_layout()\n",
    "    if dir is not None:\n",
    "        plt.savefig(\"experiments/figures/\"+dir+\"/best_features/\"+filename([problem, n, n, ra_feature])+\".jpg\", dpi=200)\n",
    "    plt.show()\n",
    "    \n",
    "def plot_comparison(df1, df2, n, x, y, dir=None):\n",
    "    df = pd.concat([df1, df2], ignore_index=True)\n",
    "    \n",
    "    if y == \"expanded transitions / total\":\n",
    "        plot_ra_expanded_transitions(df[\"problem\"].iloc[0], n, n, norm=True, color=\"r\", label=None)\n",
    "    elif y == \"expanded transitions\":\n",
    "        plot_ra_expanded_transitions(df[\"problem\"].iloc[0], n, n, norm=False, color=\"r\", label=None)\n",
    "    \n",
    "    sns.lineplot(data=df.loc[df[\"n\"] == n], x=x, y=y, hue=\"features\", color=\"r\", ci=None)\n",
    "    \n",
    "    plt.xlabel(\"training time\")\n",
    "    plt.title(\" \".join([problem, str(n), str(n)]))\n",
    "    plt.tight_layout()\n",
    "    if dir is not None:\n",
    "        plt.savefig(\"experiments/figures/\"+dir+\"/\"+filename([problem, n, n, \"comp\"])+\".jpg\", dpi=200)\n",
    "    \n",
    "    "
   ]
  },
  {
   "cell_type": "code",
   "execution_count": null,
   "id": "intended-unemployment",
   "metadata": {},
   "outputs": [],
   "source": [
    "labels = {'descend.0.0', 'air.crash.1', 'land.0', 'requestLand.0', 'requestLand.1', 'air.crash.0', 'descend.1.0', 'control.all', 'approach.0', 'descend.0.1', 'extendFlight.1', 'land.1', 'descend.1.1', 'extendFlight.0', 'approach.1'}\n",
    "\n",
    "def simplify(l):\n",
    "    return \"\".join([c for c in l if c.isalpha()])\n",
    "\n",
    "for label in labels:\n",
    "    print(label, simplify(label))\n",
    "    \n",
    "print(labels)\n",
    "print({simplify(l) for l in labels})"
   ]
  },
  {
   "cell_type": "markdown",
   "id": "operational-chosen",
   "metadata": {},
   "source": [
    "## Analyzing nn weights"
   ]
  },
  {
   "cell_type": "code",
   "execution_count": null,
   "id": "hungry-words",
   "metadata": {
    "scrolled": true
   },
   "outputs": [],
   "source": [
    "import onnx\n",
    "from onnx import numpy_helper\n",
    "\n",
    "weights = []\n",
    "for idx in range(100):\n",
    "    onnx_model = onnx.load(\"experiments/results/AT_3_3/5mill/\" + str(idx)+\".onnx\")\n",
    "    INTIALIZERS  = onnx_model.graph.initializer\n",
    "    onnx_weights = {}\n",
    "    for initializer in INTIALIZERS:\n",
    "        W = numpy_helper.to_array(initializer)\n",
    "        onnx_weights[initializer.name] = W\n",
    "    w = onnx_weights[\"coefficient\"]\n",
    "    if True:\n",
    "        for key, value in onnx_weights.items():\n",
    "            if key == \"coefficient1\":\n",
    "                print(key, value.min(), value.max())\n",
    "    for feature in range(w.shape[0]):\n",
    "        for node in range(w.shape[1]):\n",
    "            weights.append({\"t\": idx, \"val\": w[feature, node], \"feature\": feature, \"node\": node})\n",
    "    \n",
    "weights = pd.DataFrame(weights)"
   ]
  },
  {
   "cell_type": "code",
   "execution_count": null,
   "id": "threaded-veteran",
   "metadata": {},
   "outputs": [],
   "source": [
    "for feature in range(23):\n",
    "    print(feature_names({\"ra feature\": True}, \"AT\")[feature])\n",
    "    df = weights.loc[weights[\"feature\"] == feature]\n",
    "    sns.lineplot(data=df, x=\"t\", y=\"val\", hue=\"node\")\n",
    "    plt.show()"
   ]
  }
 ],
 "metadata": {
  "kernelspec": {
   "display_name": "Python 3",
   "language": "python",
   "name": "python3"
  },
  "language_info": {
   "codemirror_mode": {
    "name": "ipython",
    "version": 3
   },
   "file_extension": ".py",
   "mimetype": "text/x-python",
   "name": "python",
   "nbconvert_exporter": "python",
   "pygments_lexer": "ipython3",
   "version": "3.9.5"
  }
 },
 "nbformat": 4,
 "nbformat_minor": 5
}
