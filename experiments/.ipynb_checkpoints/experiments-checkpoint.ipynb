{
 "cells": [
  {
   "cell_type": "code",
   "execution_count": 1,
   "id": "postal-salvation",
   "metadata": {},
   "outputs": [],
   "source": [
    "import numpy as np\n",
    "import pandas as pd\n",
    "import matplotlib.pyplot as plt\n",
    "import seaborn as sns\n",
    "from prettytable import PrettyTable\n",
    "import pprint\n",
    "import pickle\n",
    "import json\n",
    "import os, sys\n",
    "os.chdir(\"../\")\n",
    "sys.path.append('src/')\n",
    "from util import *"
   ]
  },
  {
   "cell_type": "code",
   "execution_count": 2,
   "id": "given-necklace",
   "metadata": {},
   "outputs": [],
   "source": [
    "monolithic_results = get_problem_data(\"mono\")[\"expandedTransitions\"]\n",
    "ra_results = get_problem_data(\"compos\", \"RA\")[\"expandedTransitions\"]\n",
    "\n",
    "def plot_ra_expanded_transitions(problem, n, k, norm=False, label=\"RA\", color=\"r\"):\n",
    "    ra = ra_results[(problem, n, k)]\n",
    "    mono = monolithic_results[(problem, n, k)]\n",
    "    print(ra, mono, ra/mono)\n",
    "    if norm:\n",
    "        plt.text(5, ra/mono, \"RA\")\n",
    "        plt.axhline(y=ra/mono, color=color, linestyle='-', label=label)\n",
    "    else:\n",
    "        plt.text(5, ra, \"RA\")\n",
    "        plt.axhline(y=ra, color=color, linestyle='-', label=label)\n",
    "    \n",
    "def df_preprocess(df, base):\n",
    "    df[\"rounded training time\"] = df[\"training time\"] // base * base\n",
    "    df[\"avg q\"] = -df[\"avg q\"]\n",
    "    df[\"total transitions\"] = df.apply(lambda r: monolithic_results[(r[\"problem\"], r[\"n\"], r[\"k\"])], axis=1)\n",
    "    df[\"expanded transitions / total\"] = df[\"expanded transitions\"] / df[\"total transitions\"]\n",
    "    df[\"instance\"] = df.apply((lambda r: (r[\"problem\"], r[\"n\"], r[\"k\"])), axis=1)"
   ]
  },
  {
   "cell_type": "markdown",
   "id": "educational-german",
   "metadata": {},
   "source": [
    "# All problems"
   ]
  },
  {
   "cell_type": "code",
   "execution_count": null,
   "id": "blind-inflation",
   "metadata": {},
   "outputs": [],
   "source": [
    "def plot_generalization(df):\n",
    "    plot_ra_expanded_transitions(df[\"problem\"].iloc[0], 2, 2, norm=True, color=\"r\", label=None)\n",
    "    plot_ra_expanded_transitions(df[\"problem\"].iloc[0], 3, 3, norm=True, color=\"b\", label=None)\n",
    "    sns.lineplot(data=df, x=\"rounded training time\", y=\"expanded transitions / total\", hue=\"instance\", palette=[\"r\", \"b\"], ci=None)\n",
    "    plt.xlabel(\"training time\", fontsize=14)\n",
    "    plt.ylabel(\"expanded transitions / total\", fontsize=14)\n",
    "    plt.title(\" \".join([problem, str(n), str(k)]))\n",
    "    plt.ylim((0, 1))\n",
    "    plt.tight_layout()\n",
    "    plt.savefig(\"experiments/figures/trans/\"+filename([problem, n, k, \"trans\"])+\".png\", dpi=200)\n",
    "    plt.show()\n",
    "\n",
    "def plot_3_3(df):\n",
    "    plot_ra_expanded_transitions(df[\"problem\"].iloc[0], 3, 3, norm=True, color=\"b\", label=None)\n",
    "    sns.lineplot(data=df.loc[df[\"n\"] == 3], x=\"rounded training time\", y=\"expanded transitions / total\", color=\"b\", ci=None)\n",
    "    plt.xlabel(\"training time\", fontsize=14)\n",
    "    plt.ylabel(\"expanded transitions / total\", fontsize=14)\n",
    "    #plt.title(\" \".join([problem, str(n), str(k)]))\n",
    "    plt.ylim((0, 1))\n",
    "    plt.tight_layout()\n",
    "    plt.savefig(\"experiments/figures/trans_3_3/\"+filename([problem, n, k, \"trans_3_3\"])+\".png\", dpi=200)\n",
    "    plt.show()    \n",
    "\n",
    "def plot_2_2(df):\n",
    "    plot_ra_expanded_transitions(df[\"problem\"].iloc[0], 2, 2, norm=True, color=\"r\", label=None)\n",
    "    sns.lineplot(data=df.loc[df[\"n\"] == 2], x=\"rounded training time\", y=\"expanded transitions / total\", color=\"r\", ci=None)\n",
    "    plt.xlabel(\"training time\", fontsize=14)\n",
    "    plt.ylabel(\"expanded transitions / total\", fontsize=14)\n",
    "    #plt.title(\" \".join([problem, str(n), str(k)]))\n",
    "    plt.ylim((0, 1))\n",
    "    plt.tight_layout()\n",
    "    plt.savefig(\"experiments/figures/trans_2_2/\"+filename([problem, n, k, \"trans_2_2\"])+\".png\", dpi=200)\n",
    "    plt.show()  \n",
    "    \n",
    "def plot_q(df):\n",
    "    df2_2 = df.loc[df[\"n\"] == 2]\n",
    "    sns.lineplot(data=df2_2, x=\"rounded training time\", y=\"expanded transitions\", label=\"test\")\n",
    "    sns.lineplot(data=df2_2, x=\"rounded training time\", y=\"avg q\", label=\"avg q\")\n",
    "    plt.xlabel(\"training time\")\n",
    "    plt.title(\" \".join([problem, str(n), str(k)]))\n",
    "    plt.tight_layout()\n",
    "    plt.savefig(\"experiments/figures/q/\"+filename([problem, n, k, \"q\"])+\".jpg\", dpi=200)\n",
    "    plt.show()\n",
    "    \n",
    "def plot_features(df, features):\n",
    "    df2_2 = df.loc[df[\"n\"] == 2]\n",
    "    fig = plt.figure(figsize=(10, 5), dpi=200)\n",
    "    for feature in features:\n",
    "        sns.lineplot(data=df2_2, x=\"rounded training time\", y=feature, label=feature)\n",
    "    \n",
    "    plt.xlabel(\"training time\")\n",
    "    plt.title((problem, n, k))\n",
    "    plt.tight_layout()\n",
    "    plt.savefig(\"experiments/figures/features/\"+filename([problem, n, k, \"features\"])+\".jpg\", dpi=200)\n",
    "    plt.show()\n",
    "    \n",
    "def plot_features_best(df):\n",
    "    df2_2 = df.loc[df[\"n\"] == 2]\n",
    "    df3_3 = df.loc[df[\"n\"] == 3]\n",
    "    idx = df3_3.loc[df3_3[\"expanded transitions\"] == df3_3[\"expanded transitions\"].min()][\"idx\"].iloc[0]\n",
    "    features = dict(df2_2.loc[df2_2[\"idx\"] == idx].iloc[0][feature_names])\n",
    "    \n",
    "    fig = plt.figure(figsize=(10, 6), dpi=200)\n",
    "    plt.bar(x=features.keys(), height=features.values(), width=0.3)\n",
    "    plt.xticks(ha='right', rotation=55, fontsize=10)\n",
    "    plt.title((problem, n, k))\n",
    "    plt.tight_layout()\n",
    "    plt.savefig(\"experiments/figures/features best/\"+filename([problem, n, k, \"features best\"])+\".jpg\", dpi=200)\n",
    "    plt.show()\n",
    "\n",
    "problems = [\"AT\", \"TA\", \"TL\", \"DP\", \"BW\", \"CM\"]\n",
    "for problem, n, k in [(x, 2, 2) for x in problems]:\n",
    "    df = pd.read_csv(\"experiments/results/\"+filename([problem, n, k])+\"/10m_0.csv\")\n",
    "    if problem == \"AT\":\n",
    "        df = df.loc[df[\"idx\"] % 5 == 0]\n",
    "    df_preprocess(df, 1)\n",
    "    #plot_features_best(df)\n",
    "    #plot_2_2(df)\n",
    "    #plot_generalization(df)\n",
    "    plot_q(df)\n",
    "    "
   ]
  },
  {
   "cell_type": "code",
   "execution_count": null,
   "id": "genetic-harvey",
   "metadata": {},
   "outputs": [],
   "source": []
  },
  {
   "cell_type": "code",
   "execution_count": null,
   "id": "continent-auckland",
   "metadata": {},
   "outputs": [],
   "source": [
    "n, k = 2, 2 \n",
    "print(\"ra old\", ra_results[(\"TL\", n, k)])\n",
    "print(\"mono old\", monolithic_results[(\"TL\", n, k)])\n",
    "\n",
    "df_agent = pd.read_csv(\"experiments/results/\"+filename([problems[i], 2, 2])+\"/generalization_2_2.csv\")\n",
    "df_ra = pd.read_csv(\"experiments/results/\"+filename([problems[i], 2, 2])+\"/RA.csv\")\n",
    "print(\"agent test\", df_agent.loc[df_agent[\"n\"] == n][\"expanded transitions\"].iloc[0])\n",
    "print(\"ra test\", df_ra.loc[df_ra[\"n\"] == n][\"expanded transitions\"].iloc[0])\n",
    "\n",
    "df_agent_train = pd.read_csv(\"experiments/results/\"+filename([\"TL\", 2, 2])+\"/10m_0.csv\")\n",
    "print(\"train min\", min(list(df_agent_train.loc[df_agent_train[\"n\"] == n][\"expanded transitions\"])))\n",
    "print(63/12)"
   ]
  },
  {
   "cell_type": "markdown",
   "id": "casual-accordance",
   "metadata": {},
   "source": [
    "# High generalization"
   ]
  },
  {
   "cell_type": "code",
   "execution_count": null,
   "id": "ideal-mapping",
   "metadata": {},
   "outputs": [],
   "source": [
    "def plot_heatmap_trans(df, ax):\n",
    "    dfp = df.pivot(\"n\", \"k\", \"expanded transitions\")\n",
    "    sns.heatmap(data=dfp, annot=True, cmap=sns.cm.rocket_r, ax=ax, vmin=0, vmax=100000)\n",
    "    ax.invert_yaxis()\n",
    "\n",
    "def plot_heatmap_time(df, ax):\n",
    "    dfp = df.pivot(\"n\", \"k\", \"synthesis time(ms)\")\n",
    "    sns.heatmap(data=dfp, annot=True, cmap=sns.cm.rocket_r, ax=ax, vmin=0, vmax=1000000)\n",
    "    ax.invert_yaxis()\n",
    "    \n",
    "\n",
    "problems = [\"AT\", \"TA\", \"BW\", \"TL\", \"DP\"]\n",
    "files = [(\"generalization_2_2.csv\", \"Agent\"), (\"RA.csv\", \"RA\")]\n",
    "f, axs = plt.subplots(len(files), len(problems), figsize = (5*len(problems), 5*len(files)))\n",
    "\n",
    "\n",
    "for i in range(len(files)):\n",
    "    file, name = files[i]\n",
    "    for j in range(len(problems)):\n",
    "        df = pd.read_csv(\"experiments/results/\"+filename([problems[j], 2, 2])+\"/\"+file)\n",
    "        if i == 0:\n",
    "            print(problems[j], df.loc[(df[\"n\"] == 3) & (df[\"k\"] == 3)][\"synthesis time(ms)\"].iloc[0])\n",
    "        plot_heatmap_time(df, ax=axs[i][j])\n",
    "    axs[i][0].set_ylabel(files[i][1], fontsize=30)\n",
    "for i in range(len(problems)):\n",
    "    axs[0][i].set_title(problems[i], fontsize=24)\n",
    "plt.tight_layout()\n",
    "#plt.savefig(\"experiments/figures/test_all_time.jpg\", dpi=200)\n",
    "plt.show()"
   ]
  },
  {
   "cell_type": "code",
   "execution_count": null,
   "id": "atomic-worcester",
   "metadata": {},
   "outputs": [],
   "source": [
    "def get_comp_df(df_agent_p, df_ra_p):\n",
    "    df1 = df_agent_p.fillna(float(\"inf\"))\n",
    "    df2 = df_ra_p.fillna(float(\"inf\"))\n",
    "    return (df1 < df2).astype(int) - (df1 > df2).astype(int)\n",
    "\n",
    "problems = [\"AT\", \"TA\", \"BW\", \"TL\", \"DP\"]\n",
    "f, axs = plt.subplots(2, len(problems), figsize=(5*len(problems), 5*2))\n",
    "measures = [\"expanded transitions\", \"synthesis time(ms)\"]\n",
    "for i in range(len(problems)):\n",
    "    df_agent = pd.read_csv(\"experiments/results/\"+filename([problems[i], 2, 2])+\"/generalization_2_2.csv\")\n",
    "    df_ra = pd.read_csv(\"experiments/results/\"+filename([problems[i], 2, 2])+\"/RAold.csv\")\n",
    "    for j in range(2):\n",
    "        df_agent_p = df_agent.pivot(\"n\", \"k\", measures[j])\n",
    "        df_ra_p = df_ra.pivot(\"n\", \"k\", measures[j])\n",
    "        sns.heatmap(data=get_comp_df(df_agent_p, df_ra_p), cmap=[\"r\", \"y\", \"g\"], ax=axs[j][i], vmin=-1, vmax=1)\n",
    "        axs[j][i].invert_yaxis()\n",
    "    axs[0][i].set_title(problems[i], fontsize=30)\n",
    "axs[0][0].set_ylabel(measures[0], fontsize=24)\n",
    "axs[1][0].set_ylabel(measures[1], fontsize=24)\n",
    "\n",
    "plt.tight_layout()\n",
    "plt.savefig(\"experiments/figures/test_all_comp_bool_old.jpg\", dpi=200)\n",
    "plt.show()"
   ]
  },
  {
   "cell_type": "code",
   "execution_count": null,
   "id": "general-asian",
   "metadata": {},
   "outputs": [],
   "source": [
    "def fill_df(df, m):\n",
    "    added = []\n",
    "    for n in range(1, m+1):\n",
    "        for k in range(1, m+1):\n",
    "            if len(df.loc[(df[\"n\"] == n) & (df[\"k\"] == k)]) == 0:\n",
    "                added.append({\"n\": n, \"k\": k, \"expanded transitions\": float(\"inf\"), \"synthesis time(ms)\": float(\"inf\")})\n",
    "    df = pd.concat([df, pd.DataFrame(added)], ignore_index=True)\n",
    "    return df\n",
    "\n",
    "def get_comp_solved_df(df_agent_p, df_ra_p):\n",
    "    df1 = df_agent_p.fillna(float(\"inf\"))\n",
    "    df2 = df_ra_p.fillna(float(\"inf\"))\n",
    "    df1 = df1 != float(\"inf\")\n",
    "    df2 = df2 != float(\"inf\")\n",
    "    return 1*((df1 == df2) & df1) + 2*(df2 > df1) + 3*(df1 > df2)\n",
    "\n",
    "problems = [\"AT\", \"TA\", \"BW\", \"TL\", \"DP\"]\n",
    "f, axs = plt.subplots(1, len(problems), figsize=(5*len(problems), 6))\n",
    "\n",
    "for i in range(len(problems)):\n",
    "    df_agent = pd.read_csv(\"experiments/results/\"+filename([problems[i], 2, 2])+\"/all_r_15.csv\")\n",
    "    df_ra = pd.read_csv(\"experiments/results/\"+filename([problems[i], 2, 2])+\"/all_afterfix_r_15.csv\")\n",
    "    df_agent = fill_df(df_agent, 15)\n",
    "    df_ra = fill_df(df_ra, 15)\n",
    "    df_agent_p = df_agent.pivot(\"n\", \"k\", \"synthesis time(ms)\")\n",
    "    df_ra_p = df_ra.pivot(\"n\", \"k\", \"synthesis time(ms)\")\n",
    "    sns.heatmap(data=get_comp_solved_df(df_agent_p, df_ra_p), cmap=[\"#d0e1d4\", \"#08a045\", \"#ed6a5a\", \"#008bf8\"], ax=axs[i], vmin=0, vmax=3, cbar=False)\n",
    "    axs[i].invert_yaxis()\n",
    "    axs[i].set_title(problems[i], fontsize=30)\n",
    "\n",
    "plt.tight_layout()\n",
    "#plt.savefig(\"experiments/figures/test_solved_15.jpg\", dpi=200)\n",
    "plt.show()"
   ]
  },
  {
   "cell_type": "code",
   "execution_count": null,
   "id": "proof-capture",
   "metadata": {},
   "outputs": [],
   "source": [
    "df_ra = pd.read_csv(\"experiments/results/\"+filename([\"TA\", 2, 2])+\"/all_r_15.csv\")\n",
    "df_ra = fill_df(df_ra, 15)\n",
    "df_ra_p = df_ra.pivot(\"n\", \"k\", \"expanded transitions\")\n",
    "print(df_ra_p[3][3])"
   ]
  },
  {
   "cell_type": "code",
   "execution_count": null,
   "id": "rapid-short",
   "metadata": {},
   "outputs": [],
   "source": [
    "def fill_df(df, m):\n",
    "    added = []\n",
    "    for n in range(1, m+1):\n",
    "        for k in range(1, m+1):\n",
    "            if len(df.loc[(df[\"n\"] == n) & (df[\"k\"] == k)]) == 0:\n",
    "                added.append({\"n\": n, \"k\": k, \"expanded transitions\": float(\"inf\"), \"synthesis time(ms)\": float(\"inf\")})\n",
    "    df = pd.concat([df, pd.DataFrame(added)], ignore_index=True)\n",
    "    return df\n",
    "\n",
    "def get_comp_solved_df(df_agent_p, df_ra_p):\n",
    "    df1 = df_agent_p.fillna(float(\"inf\"))\n",
    "    df2 = df_ra_p.fillna(float(\"inf\"))\n",
    "    df1 = df1 != float(\"inf\")\n",
    "    df2 = df2 != float(\"inf\")\n",
    "    return 1*((df1 == df2) & df1) + 2*(df2 > df1) + 3*(df1 > df2)\n",
    "\n",
    "problems = [\"AT\", \"TA\", \"BW\", \"TL\", \"DP\"]\n",
    "f, axs = plt.subplots(1, len(problems), figsize=(10*len(problems), 12))\n",
    "\n",
    "for i in range(len(problems)):\n",
    "    df_agent = pd.read_csv(\"experiments/results/\"+filename([problems[i], 2, 2])+\"/all_e_15.csv\")\n",
    "    df_ra = pd.read_csv(\"experiments/results/\"+filename([problems[i], 2, 2])+\"/all_r_15.csv\")\n",
    "    df_agent = fill_df(df_agent, 15)\n",
    "    df_ra = fill_df(df_ra, 15)\n",
    "    df_agent[\"heuristic time rel\"] = df_agent[\"heuristic time(ms)\"] / df_agent[\"synthesis time(ms)\"]\n",
    "    df_ra[\"heuristic time rel\"] = df_ra[\"heuristic time(ms)\"] / df_ra[\"synthesis time(ms)\"]\n",
    "    df_agent_p = df_agent.pivot(\"n\", \"k\", \"heuristic time rel\")\n",
    "    df_ra_p = df_ra.pivot(\"n\", \"k\", \"heuristic time rel\")\n",
    "    sns.heatmap(data=df_agent_p, ax=axs[i], cmap=sns.cm.rocket_r, annot=True)\n",
    "    #sns.heatmap(data=get_comp_solved_df(df_agent_p, df_ra_p), cmap=[\"#d0e1d4\", \"#08a045\", \"#ed6a5a\", \"#008bf8\"], ax=axs[i], vmin=0, vmax=3, cbar=False)\n",
    "    axs[i].invert_yaxis()\n",
    "    axs[i].set_title(problems[i], fontsize=30)\n",
    "\n",
    "plt.tight_layout()\n",
    "plt.savefig(\"experiments/figures/agent_heuristic_time.jpg\", dpi=200)\n",
    "plt.show()"
   ]
  },
  {
   "cell_type": "code",
   "execution_count": null,
   "id": "minus-quebec",
   "metadata": {},
   "outputs": [],
   "source": [
    "def fill_df(df, m):\n",
    "    added = []\n",
    "    for n in range(1, m+1):\n",
    "        for k in range(1, m+1):\n",
    "            if len(df.loc[(df[\"n\"] == n) & (df[\"k\"] == k)]) == 0:\n",
    "                added.append({\"n\": n, \"k\": k, \"expanded transitions\": float(\"inf\"), \"synthesis time(ms)\": float(\"inf\")})\n",
    "    df = pd.concat([df, pd.DataFrame(added)], ignore_index=True)\n",
    "    return df\n",
    "\n",
    "def get_comp_solved_df(df_agent_p, df_ra_p):\n",
    "    df1 = df_agent_p.fillna(float(\"inf\"))\n",
    "    df2 = df_ra_p.fillna(float(\"inf\"))\n",
    "    df1 = df1 != float(\"inf\")\n",
    "    df2 = df2 != float(\"inf\")\n",
    "    return 1*((df1 == df2) & df1) + 2*(df2 > df1) + 3*(df1 > df2)\n",
    "\n",
    "df = []\n",
    "for key, time in monolithic_results.items():\n",
    "    problem, n, k = key\n",
    "    df.append({\"problem\": problem, \"n\": n, \"k\": k, \"synthesis time(ms)\": time})\n",
    "df = pd.DataFrame(df)\n",
    "df[\"synthesis time(ms)\"] = df.apply(lambda r: np.nan if r[\"synthesis time(ms)\"] > 10*60*1000 else r[\"synthesis time(ms)\"], axis=1)\n",
    "df_mono = df\n",
    "\n",
    "problems = [\"AT\", \"TA\", \"BW\", \"TL\", \"DP\"]\n",
    "f, axs = plt.subplots(1, len(problems), figsize=(5*len(problems), 6))\n",
    "\n",
    "for i in range(len(problems)):\n",
    "    df_agent = pd.read_csv(\"experiments/results/\"+filename([problems[i], 2, 2])+\"/Agent15.csv\")\n",
    "    df_agent = fill_df(df_agent, 15)\n",
    "    df_agent_p = df_agent.pivot(\"n\", \"k\", \"synthesis time(ms)\")\n",
    "    \n",
    "    df_loc = df_mono.loc[df_mono[\"problem\"] == problems[i]]\n",
    "    df_loc = fill_df(df_loc, 15)\n",
    "    df_loc = df_loc.pivot(\"n\", \"k\", \"synthesis time(ms)\")\n",
    "    sns.heatmap(data=get_comp_solved_df(df_agent_p, df_loc), cmap=[\"#d0e1d4\", \"#08a045\", \"#ed6a5a\", \"#008bf8\"], vmin=0, vmax=3, ax=axs[i], cbar=False)\n",
    "    axs[i].invert_yaxis()\n",
    "    axs[i].set_title(problems[i], fontsize=30)\n",
    "\n",
    "plt.tight_layout()\n",
    "plt.savefig(\"experiments/figures/test_solved_mono.jpg\", dpi=200)\n",
    "plt.show()"
   ]
  },
  {
   "cell_type": "code",
   "execution_count": null,
   "id": "congressional-pipeline",
   "metadata": {},
   "outputs": [],
   "source": []
  },
  {
   "cell_type": "code",
   "execution_count": null,
   "id": "contained-dover",
   "metadata": {},
   "outputs": [],
   "source": [
    "def fill_df(df, m):\n",
    "    added = []\n",
    "    for n in range(1, m+1):\n",
    "        for k in range(1, m+1):\n",
    "            if len(df.loc[(df[\"n\"] == n) & (df[\"k\"] == k)]) == 0:\n",
    "                added.append({\"n\": n, \"k\": k, \"expanded transitions\": float(\"inf\"), \"synthesis time(ms)\": float(\"inf\")})\n",
    "    df = pd.concat([df, pd.DataFrame(added)], ignore_index=True)\n",
    "    return df\n",
    "\n",
    "def get_comp_solved_df(df_agent_p, df_ra_p):\n",
    "    df1 = df_agent_p.fillna(float(\"inf\"))\n",
    "    df2 = df_ra_p.fillna(float(\"inf\"))\n",
    "    df1 = df1 != float(\"inf\")\n",
    "    df2 = df2 != float(\"inf\")\n",
    "    return 1*((df1 == df2) & df1) + 2*(df2 > df1) + 3*(df1 > df2)\n",
    "\n",
    "df = []\n",
    "for key, time in monolithic_results.items():\n",
    "    problem, n, k = key\n",
    "    df.append({\"problem\": problem, \"n\": n, \"k\": k, \"synthesis time(ms)\": time})\n",
    "df = pd.DataFrame(df)\n",
    "df[\"synthesis time(ms)\"] = df.apply(lambda r: np.nan if r[\"synthesis time(ms)\"] > 10*60*1000 else r[\"synthesis time(ms)\"], axis=1)\n",
    "df_mono = df\n",
    "\n",
    "problems = [\"AT\", \"TA\", \"BW\", \"TL\", \"DP\"]\n",
    "f, axs = plt.subplots(1, len(problems), figsize=(5*len(problems), 6))\n",
    "\n",
    "for i in range(len(problems)):\n",
    "    df_agent = pd.read_csv(\"experiments/results/\"+filename([problems[i], 2, 2])+\"/Agent15.csv\")\n",
    "    df_agent = fill_df(df_agent, 15)\n",
    "    df_agent_p = df_agent.pivot(\"n\", \"k\", \"synthesis time(ms)\")\n",
    "    \n",
    "    df_loc = df_mono.loc[df_mono[\"problem\"] == problems[i]]\n",
    "    df_loc = fill_df(df_loc, 15)\n",
    "    df_loc = df_loc.pivot(\"n\", \"k\", \"synthesis time(ms)\")\n",
    "    sns.heatmap(data=get_comp_solved_df(df_agent_p, df_loc), cmap=[\"#d0e1d4\", \"#08a045\", \"#ed6a5a\", \"#008bf8\"], vmin=0, vmax=3, ax=axs[i], cbar=False)\n",
    "    axs[i].invert_yaxis()\n",
    "    axs[i].set_title(problems[i], fontsize=30)\n",
    "\n",
    "plt.tight_layout()\n",
    "plt.savefig(\"experiments/figures/test_solved_ra_mono.jpg\", dpi=200)\n",
    "plt.show()"
   ]
  },
  {
   "cell_type": "code",
   "execution_count": null,
   "id": "reasonable-cartoon",
   "metadata": {},
   "outputs": [],
   "source": [
    "problems = [\"AT\", \"TA\", \"BW\", \"TL\", \"DP\"]\n",
    "f, axs = plt.subplots(1, len(problems), figsize=(5*len(problems), 6))\n",
    "\n",
    "for i in range(len(problems)):\n",
    "    df_agent = pd.read_csv(\"experiments/results/\"+filename([problems[i], 2, 2])+\"/Agent15.csv\")\n",
    "    df_ra = pd.read_csv(\"experiments/results/\"+filename([problems[i], 2, 2])+\"/RA15.csv\")\n",
    "    df_agent[\"approach\"] = \"Agent\"\n",
    "    df_ra[\"approach\"] = \"RA\"\n",
    "    \n",
    "    sns.lineplot(data=pd.concat([df_agent, df_ra], ignore_index=True), x=\"expanded transitions\", y=\"synthesis time(ms)\", ax=axs[i], hue=\"approach\")\n",
    "    axs[i].set_title(problems[i], fontsize=30)\n",
    "\n",
    "plt.tight_layout()\n",
    "plt.savefig(\"experiments/figures/overhead.jpg\", dpi=200)\n",
    "plt.show()"
   ]
  },
  {
   "cell_type": "code",
   "execution_count": null,
   "id": "worst-grocery",
   "metadata": {},
   "outputs": [],
   "source": [
    "def fill_df(df, m):\n",
    "    added = []\n",
    "    for n in range(1, m+1):\n",
    "        for k in range(1, m+1):\n",
    "            if len(df.loc[(df[\"n\"] == n) & (df[\"k\"] == k)]) == 0:\n",
    "                added.append({\"n\": n, \"k\": k, \"expanded transitions\": float(\"inf\"), \"synthesis time(ms)\": float(\"inf\")})\n",
    "    df = pd.concat([df, pd.DataFrame(added)], ignore_index=True)\n",
    "    return df\n",
    "\n",
    "def get_comp_solved_df(agent_s, ra_s, agent_t, ra_t):\n",
    "    agent_s = agent_s.fillna(float(\"inf\"))\n",
    "    ra_s = ra_s.fillna(float(\"inf\"))\n",
    "    agent_t = agent_t.fillna(float(\"inf\"))\n",
    "    ra_t = ra_t.fillna(float(\"inf\"))\n",
    "    \n",
    "    agent_solved = agent_s != float(\"inf\")\n",
    "    ra_solved = ra_s != float(\"inf\")\n",
    "    #result = (ra_solved & agent_solved)*(1*(agent_s > ra_s)+2*(ra_s >= agent_s)) + 3*(ra_solved > agent_solved) + 4*(agent_solved > ra_solved)\n",
    "    result = (ra_solved & agent_solved)*(1*(agent_t > ra_t)+2*(ra_t >= agent_t)) + 3*(ra_solved > agent_solved) + 4*(agent_solved > ra_solved)\n",
    "    \n",
    "    return result\n",
    "\n",
    "problems = [\"AT\", \"TA\", \"BW\", \"TL\", \"DP\"]\n",
    "f, axs = plt.subplots(1, len(problems), figsize=(5*len(problems), 7))\n",
    "\n",
    "for i in range(len(problems)):\n",
    "    df_agent = pd.read_csv(\"experiments/results/\"+filename([problems[i], 2, 2])+\"/Agent15.csv\")\n",
    "    df_ra = pd.read_csv(\"experiments/results/\"+filename([problems[i], 2, 2])+\"/RA15.csv\")\n",
    "    df_agent = fill_df(df_agent, 15)\n",
    "    df_ra = fill_df(df_ra, 15)\n",
    "    agent_s = df_agent.pivot(\"n\", \"k\", \"synthesis time(ms)\")\n",
    "    ra_s = df_ra.pivot(\"n\", \"k\", \"synthesis time(ms)\")\n",
    "    agent_t = df_agent.pivot(\"n\", \"k\", \"expanded transitions\")\n",
    "    ra_t = df_ra.pivot(\"n\", \"k\", \"expanded transitions\")\n",
    "    grey = \"#d0e1d4\"\n",
    "    red = \"#ed6a5a\"\n",
    "    blue = \"#008bf8\"\n",
    "    green = \"#08a045\"\n",
    "    green1 = \"#A7C957\"\n",
    "    sns.heatmap(data=get_comp_solved_df(agent_s, ra_s, agent_t, ra_t), cmap=[grey, green, green, red, blue], ax=axs[i], vmin=0, vmax=4, cbar=False)\n",
    "    axs[i].invert_yaxis()\n",
    "    axs[i].set_ylabel(\"n\", fontsize=20)\n",
    "    axs[i].set_xlabel(\"k\", fontsize=20)\n",
    "    axs[i].set_title(problems[i], fontsize=30)\n",
    "\n",
    "plt.tight_layout()\n",
    "plt.savefig(\"experiments/figures/test_solved_15.png\", dpi=500)\n",
    "plt.show()"
   ]
  },
  {
   "cell_type": "code",
   "execution_count": null,
   "id": "dimensional-major",
   "metadata": {},
   "outputs": [],
   "source": [
    "def fill_df(df, m):\n",
    "    added = []\n",
    "    for n in range(1, m+1):\n",
    "        for k in range(1, m+1):\n",
    "            if len(df.loc[(df[\"n\"] == n) & (df[\"k\"] == k)]) == 0:\n",
    "                added.append({\"n\": n, \"k\": k, \"expanded transitions\": float(\"inf\"), \"synthesis time(ms)\": float(\"inf\")})\n",
    "    df = pd.concat([df, pd.DataFrame(added)], ignore_index=True)\n",
    "    return df\n",
    "\n",
    "def get_comp_solved_df(df_agent_p, df_ra_p):\n",
    "    df1 = df_agent_p.fillna(float(\"inf\"))\n",
    "    df2 = df_ra_p.fillna(float(\"inf\"))\n",
    "    return ((df1 != float(\"inf\")) & (df2 != float(\"inf\")))* (1*(df1 > df2) + 2*(df1 < df2) + 3*(df1 == df2))\n",
    "\n",
    "problems = [\"AT\", \"TA\", \"BW\", \"TL\", \"DP\"]\n",
    "f, axs = plt.subplots(1, len(problems), figsize=(5*len(problems), 6))\n",
    "\n",
    "measure = \"expanded transitions\"\n",
    "#measure = \"synthesis time(ms)\"\n",
    "\n",
    "for i in range(len(problems)):\n",
    "    df_agent = pd.read_csv(\"experiments/results/\"+filename([problems[i], 2, 2])+\"/Agent15.csv\")\n",
    "    df_ra = pd.read_csv(\"experiments/results/\"+filename([problems[i], 2, 2])+\"/RA15.csv\")\n",
    "    df_agent = fill_df(df_agent, 15)\n",
    "    df_ra = fill_df(df_ra, 15)\n",
    "    df_agent_p = df_agent.pivot(\"n\", \"k\", measure)\n",
    "    df_ra_p = df_ra.pivot(\"n\", \"k\", measure)\n",
    "    grey = \"#d0e1d4\"\n",
    "    red = \"#ed6a5a\"\n",
    "    blue = \"#008bf8\"\n",
    "    green = \"#08a045\"\n",
    "    green1 = \"#adc178\"\n",
    "    sns.heatmap(data=get_comp_solved_df(df_agent_p, df_ra_p), cmap=[grey, red, blue, green], ax=axs[i], vmin=0, vmax=3, cbar=False)\n",
    "    axs[i].invert_yaxis()\n",
    "    axs[i].set_title(problems[i], fontsize=30)\n",
    "\n",
    "plt.tight_layout()\n",
    "#plt.savefig(\"experiments/figures/test_solved_15.jpg\", dpi=200)\n",
    "plt.show()"
   ]
  },
  {
   "cell_type": "code",
   "execution_count": null,
   "id": "creative-demographic",
   "metadata": {},
   "outputs": [],
   "source": [
    "def plot_heatmap_trans(df, ax):\n",
    "    dfp = df.pivot(\"n\", \"k\", \"expanded transitions\")\n",
    "    sns.heatmap(data=dfp, cmap=sns.cm.rocket_r, ax=ax, vmin=0, vmax=100000)\n",
    "    ax.invert_yaxis()\n",
    "\n",
    "def plot_heatmap_time(df, ax):\n",
    "    dfp = df.pivot(\"n\", \"k\", \"synthesis time(ms)\")\n",
    "    sns.heatmap(data=dfp, cmap=sns.cm.rocket_r, ax=ax, xticklabels=range(1, 16), yticklabels=range(1, 16))\n",
    "    ax.set_ylim(0, 15)\n",
    "    ax.set_xlim(0, 15)\n",
    "\n",
    "problems = [\"AT\", \"TA\", \"BW\", \"TL\", \"DP\"]\n",
    "files = [(\"Agent15.csv\", \"Agent\"), (\"RA15.csv\", \"RA\")]\n",
    "f, axs = plt.subplots(len(files), len(problems), figsize = (5*len(problems), 5*len(files)))\n",
    "\n",
    "\n",
    "for i in range(len(files)):\n",
    "    file, name = files[i]\n",
    "    for j in range(len(problems)):\n",
    "        df = pd.read_csv(\"experiments/results/\"+filename([problems[j], 2, 2])+\"/\"+file)\n",
    "        plot_heatmap_time(df, ax=axs[i][j])\n",
    "    axs[i][0].set_ylabel(files[i][1], fontsize=30)\n",
    "for i in range(len(problems)):\n",
    "    axs[0][i].set_title(problems[i], fontsize=24)\n",
    "plt.tight_layout()\n",
    "#plt.savefig(\"experiments/figures/test_all_time.jpg\", dpi=200)\n",
    "plt.show()"
   ]
  },
  {
   "cell_type": "code",
   "execution_count": null,
   "id": "fifty-replication",
   "metadata": {},
   "outputs": [],
   "source": [
    "def plot_heatmap_trans(df, ax):\n",
    "    dfp = df.pivot(\"n\", \"k\", \"expanded transitions\")\n",
    "    sns.heatmap(data=dfp, cmap=sns.cm.rocket_r, ax=ax, vmin=0, vmax=100000)\n",
    "    ax.invert_yaxis()\n",
    "\n",
    "def plot_heatmap_time(df, ax):\n",
    "    dfp = df.pivot(\"n\", \"k\", \"synthesis time(ms)\")\n",
    "    sns.heatmap(data=dfp, cmap=sns.cm.rocket_r, ax=ax, xticklabels=range(1, 16), yticklabels=range(1, 16))\n",
    "    ax.set_ylim(0, 15)\n",
    "    ax.set_xlim(0, 15)\n",
    "\n",
    "problems = [\"AT\", \"TA\", \"BW\", \"TL\", \"DP\"]\n",
    "files = [(\"Agent15.csv\", \"Agent\"), (\"RA15.csv\", \"RA\")]\n",
    "f, axs = plt.subplots(len(files), len(problems), figsize = (5*len(problems), 5*len(files)))\n",
    "\n",
    "\n",
    "for i in range(len(files)):\n",
    "    file, name = files[i]\n",
    "    for j in range(len(problems)):\n",
    "        df = pd.read_csv(\"experiments/results/\"+filename([problems[j], 2, 2])+\"/\"+file)\n",
    "        plot_heatmap_time(df, ax=axs[i][j])\n",
    "    axs[i][0].set_ylabel(files[i][1], fontsize=30)\n",
    "for i in range(len(problems)):\n",
    "    axs[0][i].set_title(problems[i], fontsize=24)\n",
    "plt.tight_layout()\n",
    "#plt.savefig(\"experiments/figures/test_all_time.jpg\", dpi=200)\n",
    "plt.show()"
   ]
  },
  {
   "cell_type": "markdown",
   "id": "small-colombia",
   "metadata": {},
   "source": [
    "# Eta y epsilon"
   ]
  },
  {
   "cell_type": "code",
   "execution_count": null,
   "id": "peaceful-currency",
   "metadata": {},
   "outputs": [],
   "source": [
    "df = []\n",
    "for problem, n, k in [(\"AT\", 2, 2)]:\n",
    "    for eta in [1e-3, 1e-4, 1e-5, 1e-6]:\n",
    "        for eps in [0.05, 0.1]:\n",
    "            for it in range(2):\n",
    "                df.append(pd.read_csv(\"experiments/results/\"+filename([problem, n, k])+\"/\"+filename([\"eta\", eta, it, eps])+\".csv\"))\n",
    "                df[-1][\"eta\"] = eta\n",
    "                df[-1][\"it\"] = it\n",
    "                df[-1][\"eps\"] = eps\n",
    "df = pd.concat(df, ignore_index=True)\n",
    "df_preprocess(df, 500)\n",
    "\n",
    "def plot_params(eta, eps):\n",
    "    y_axis = \"expanded transitions / total\"\n",
    "    dfplot = df.loc[(df[\"eta\"]==eta) & (df[\"eps\"]==eps)]\n",
    "    #dfplot = dfplot.loc[dfplot[\"it\"] == 1]\n",
    "    \n",
    "    plot_ra_expanded_transitions(\"AT\", 2, 2, norm=True, color=\"r\")\n",
    "    plot_ra_expanded_transitions(\"AT\", 3, 3, norm=True, color=\"b\")\n",
    "    \n",
    "    sns.lineplot(data=dfplot, x=\"rounded training time\", y=y_axis, hue=\"instance\", ci=None, palette=\"Set1\")\n",
    "    plt.title((eta, eps))\n",
    "    plt.show()\n",
    "    \n",
    "def plot_params_comparison(n, k):\n",
    "    y_axis = \"expanded transitions\"\n",
    "    dfplot = df.loc[(df[\"n\"]==n) & (df[\"eta\"]<=1e-4)]\n",
    "    #dfplot = dfplot.loc[dfplot[\"it\"] == 1]\n",
    "    \n",
    "    plot_ra_expanded_transitions(\"AT\", n, k, norm=False, color=\"black\")\n",
    "    \n",
    "    \n",
    "    sns.lineplot(data=dfplot, x=\"rounded training time\", y=y_axis, hue=\"eta\", ci=None, palette=\"Set1\")\n",
    "    plt.title((eta, eps))\n",
    "    plt.show()\n",
    "\n",
    "#plot_params(1e-5, 0.05)\n",
    "#plot_params(1e-6, 0.05)\n",
    "#plot_params(1e-5, 0.1)\n",
    "#plot_params(1e-6, 0.1)\n",
    "#plot_params(1e-5, 0.05)\n",
    "\n",
    "plot_params_comparison(2, 2)"
   ]
  },
  {
   "cell_type": "markdown",
   "id": "democratic-incident",
   "metadata": {},
   "source": [
    "# Feature distribution"
   ]
  },
  {
   "cell_type": "code",
   "execution_count": 34,
   "id": "extra-humidity",
   "metadata": {},
   "outputs": [
    {
     "name": "stdout",
     "output_type": "stream",
     "text": [
      "2147483648\n"
     ]
    }
   ],
   "source": [
    "n = 2\n",
    "df = {name: [] for name in feature_names}\n",
    "for problem in [\"AT\", \"BW\", \"DP\", \"TA\", \"CM\", \"TL\"]:\n",
    "    with open(\"experiments/results/\"+filename([problem, n, n])+\"/random_states2.pkl\", \"rb\") as f:\n",
    "        states = pickle.load(f)\n",
    "    for s in states:\n",
    "        for a in s:\n",
    "            for i in range(len(feature_names)):\n",
    "                df[feature_names[i]].append(a[i])\n",
    "\n",
    "df = pd.DataFrame(df)\n",
    "df[\"ra 2\"] = df[\"ra 2\"].astype(int)\n",
    "m = df[\"ra 2\"].max()\n",
    "print(m)\n",
    "df[\"ra 2\"] = df[\"ra 2\"].apply(lambda x : -5 if x == m else x)"
   ]
  },
  {
   "cell_type": "code",
   "execution_count": 32,
   "id": "caroline-virginia",
   "metadata": {},
   "outputs": [
    {
     "name": "stdout",
     "output_type": "stream",
     "text": [
      " 3     31963\n",
      " 5     25664\n",
      " 2     24581\n",
      "-1     20641\n",
      " 4     18369\n",
      " 6     16671\n",
      " 7     14640\n",
      " 8      9463\n",
      " 9      4493\n",
      " 1      2785\n",
      " 10      223\n",
      " 11       94\n",
      " 16       61\n",
      " 12       55\n",
      " 14       55\n",
      "Name: ra 2, dtype: int64\n"
     ]
    }
   ],
   "source": []
  },
  {
   "cell_type": "code",
   "execution_count": 38,
   "id": "determined-dating",
   "metadata": {},
   "outputs": [
    {
     "name": "stdout",
     "output_type": "stream",
     "text": [
      "ra 1\n"
     ]
    },
    {
     "data": {
      "image/png": "[encoded data removed]",
      "text/plain": [
       "<Figure size 432x288 with 1 Axes>"
      ]
     },
     "metadata": {
      "needs_background": "light"
     },
     "output_type": "display_data"
    },
    {
     "name": "stdout",
     "output_type": "stream",
     "text": [
      "ra 2\n"
     ]
    },
    {
     "data": {
      "image/png": "[encoded data removed]",
      "text/plain": [
       "<Figure size 432x288 with 1 Axes>"
      ]
     },
     "metadata": {
      "needs_background": "light"
     },
     "output_type": "display_data"
    },
    {
     "name": "stdout",
     "output_type": "stream",
     "text": [
      "controllable\n"
     ]
    },
    {
     "data": {
      "image/png": "[encoded data removed]",
      "text/plain": [
       "<Figure size 432x288 with 1 Axes>"
      ]
     },
     "metadata": {
      "needs_background": "light"
     },
     "output_type": "display_data"
    },
    {
     "name": "stdout",
     "output_type": "stream",
     "text": [
      "depth\n"
     ]
    },
    {
     "data": {
      "image/png": "[encoded data removed]",
      "text/plain": [
       "<Figure size 432x288 with 1 Axes>"
      ]
     },
     "metadata": {
      "needs_background": "light"
     },
     "output_type": "display_data"
    },
    {
     "name": "stdout",
     "output_type": "stream",
     "text": [
      "state unexplorability\n"
     ]
    },
    {
     "data": {
      "image/png": "[encoded data removed]",
      "text/plain": [
       "<Figure size 432x288 with 1 Axes>"
      ]
     },
     "metadata": {
      "needs_background": "light"
     },
     "output_type": "display_data"
    },
    {
     "name": "stdout",
     "output_type": "stream",
     "text": [
      "state marked\n"
     ]
    },
    {
     "data": {
      "image/png": "[encoded data removed]",
      "text/plain": [
       "<Figure size 432x288 with 1 Axes>"
      ]
     },
     "metadata": {
      "needs_background": "light"
     },
     "output_type": "display_data"
    },
    {
     "name": "stdout",
     "output_type": "stream",
     "text": [
      "child marked\n"
     ]
    },
    {
     "data": {
      "image/png": "[encoded data removed]",
      "text/plain": [
       "<Figure size 432x288 with 1 Axes>"
      ]
     },
     "metadata": {
      "needs_background": "light"
     },
     "output_type": "display_data"
    },
    {
     "name": "stdout",
     "output_type": "stream",
     "text": [
      "child goal\n"
     ]
    },
    {
     "data": {
      "image/png": "[encoded data removed]",
      "text/plain": [
       "<Figure size 432x288 with 1 Axes>"
      ]
     },
     "metadata": {
      "needs_background": "light"
     },
     "output_type": "display_data"
    },
    {
     "name": "stdout",
     "output_type": "stream",
     "text": [
      "child error\n"
     ]
    },
    {
     "data": {
      "image/png": "[encoded data removed]",
      "text/plain": [
       "<Figure size 432x288 with 1 Axes>"
      ]
     },
     "metadata": {
      "needs_background": "light"
     },
     "output_type": "display_data"
    },
    {
     "name": "stdout",
     "output_type": "stream",
     "text": [
      "child none\n"
     ]
    },
    {
     "data": {
      "image/png": "[encoded data removed]",
      "text/plain": [
       "<Figure size 432x288 with 1 Axes>"
      ]
     },
     "metadata": {
      "needs_background": "light"
     },
     "output_type": "display_data"
    },
    {
     "name": "stdout",
     "output_type": "stream",
     "text": [
      "child deadlock\n"
     ]
    },
    {
     "data": {
      "image/png": "[encoded data removed]",
      "text/plain": [
       "<Figure size 432x288 with 1 Axes>"
      ]
     },
     "metadata": {
      "needs_background": "light"
     },
     "output_type": "display_data"
    },
    {
     "name": "stdout",
     "output_type": "stream",
     "text": [
      "uncontrollability child\n"
     ]
    },
    {
     "data": {
      "image/png": "[encoded data removed]",
      "text/plain": [
       "<Figure size 432x288 with 1 Axes>"
      ]
     },
     "metadata": {
      "needs_background": "light"
     },
     "output_type": "display_data"
    },
    {
     "name": "stdout",
     "output_type": "stream",
     "text": [
      "unexplorability child\n"
     ]
    },
    {
     "data": {
      "image/png": "[encoded data removed]",
      "text/plain": [
       "<Figure size 432x288 with 1 Axes>"
      ]
     },
     "metadata": {
      "needs_background": "light"
     },
     "output_type": "display_data"
    }
   ],
   "source": [
    "for name in feature_names:\n",
    "    print(name)\n",
    "    df[name].plot(kind='hist');\n",
    "    plt.show()"
   ]
  }
 ],
 "metadata": {
  "kernelspec": {
   "display_name": "Python 3",
   "language": "python",
   "name": "python3"
  },
  "language_info": {
   "codemirror_mode": {
    "name": "ipython",
    "version": 3
   },
   "file_extension": ".py",
   "mimetype": "text/x-python",
   "name": "python",
   "nbconvert_exporter": "python",
   "pygments_lexer": "ipython3",
   "version": "3.9.5"
  }
 },
 "nbformat": 4,
 "nbformat_minor": 5
}
