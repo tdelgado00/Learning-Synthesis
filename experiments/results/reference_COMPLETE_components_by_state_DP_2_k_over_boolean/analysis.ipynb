{
 "cells": [
  {
   "cell_type": "code",
   "execution_count": 55,
   "metadata": {},
   "outputs": [],
   "source": [
    "\"\"\"import os\n",
    "import pandas as pd\n",
    "def get_csvs_from_subdirs_with_substring(path, substring = \"15000\"):\n",
    "    result_dirs = []\n",
    "    for root, level_dirs, files in os.walk(path):\n",
    "        for file in files:\n",
    "            if(substring in file): print(root,level_dirs,file)\n",
    "                \n",
    "    return result_dirs\n",
    "\"\"\"\n",
    "\n",
    "\n",
    "import pdb\n",
    "import os\n",
    "import pandas as pd\n",
    "def DPget_csvs_from_subdirs_with_substring(path, substring = \"15000\"):\n",
    "    result_dirs = []\n",
    "    all_files = []\n",
    "    for root, level_dirs, files in os.walk(path):\n",
    "        for file in files:\n",
    "            if(substring in file and \"DP\" in root): \n",
    "                all_files.append(root + \"/\"+file)\n",
    "                print(\"found \", root + \"/\"+file)\n",
    "    return all_files\n"
   ]
  },
  {
   "cell_type": "code",
   "execution_count": 53,
   "metadata": {},
   "outputs": [
    {
     "name": "stdout",
     "output_type": "stream",
     "text": [
      "found  /home/marco/Desktop/Learning-Synthesis/experiments/results/boolean_DP_2_k_over_boolean/boolean_DP_2_10_over_boolean/15000_118.csv\n",
      "found  /home/marco/Desktop/Learning-Synthesis/experiments/results/boolean_DP_2_k_over_boolean/boolean_DP_2_14_over_boolean/15000_74.csv\n",
      "found  /home/marco/Desktop/Learning-Synthesis/experiments/results/boolean_DP_2_k_over_boolean/boolean_DP_2_12_over_boolean/15000_93.csv\n",
      "found  /home/marco/Desktop/Learning-Synthesis/experiments/results/boolean_DP_2_k_over_boolean/boolean_DP_2_2_over_boolean/15000_31.csv\n",
      "found  /home/marco/Desktop/Learning-Synthesis/experiments/results/boolean_DP_2_k_over_boolean/boolean_DP_2_7_over_boolean/15000_91.csv\n",
      "found  /home/marco/Desktop/Learning-Synthesis/experiments/results/boolean_DP_2_k_over_boolean/boolean_DP_2_6_over_boolean/15000_73.csv\n",
      "found  /home/marco/Desktop/Learning-Synthesis/experiments/results/boolean_DP_2_k_over_boolean/boolean_DP_2_4_over_boolean/15000_54.csv\n",
      "found  /home/marco/Desktop/Learning-Synthesis/experiments/results/boolean_DP_2_k_over_boolean/boolean_DP_2_11_over_boolean/15000_179.csv\n",
      "found  /home/marco/Desktop/Learning-Synthesis/experiments/results/boolean_DP_2_k_over_boolean/boolean_DP_2_3_over_boolean/15000_73.csv\n",
      "found  /home/marco/Desktop/Learning-Synthesis/experiments/results/boolean_DP_2_k_over_boolean/boolean_DP_2_8_over_boolean/15000_58.csv\n",
      "found  /home/marco/Desktop/Learning-Synthesis/experiments/results/boolean_DP_2_k_over_boolean/boolean_DP_2_15_over_boolean/15000_107.csv\n",
      "found  /home/marco/Desktop/Learning-Synthesis/experiments/results/boolean_DP_2_k_over_boolean/boolean_DP_2_5_over_boolean/15000_49.csv\n",
      "found  /home/marco/Desktop/Learning-Synthesis/experiments/results/boolean_DP_2_k_over_boolean/boolean_DP_2_9_over_boolean/15000_30.csv\n",
      "found  /home/marco/Desktop/Learning-Synthesis/experiments/results/boolean_DP_2_k_over_boolean/boolean_DP_2_13_over_boolean/15000_92.csv\n",
      "found  /home/marco/Desktop/Learning-Synthesis/experiments/results/boolean_DP_2_k_over_boolean/boolean_DP_2_1_over_boolean/15000_57.csv\n"
     ]
    },
    {
     "data": {
      "text/plain": [
       "(73, 20)"
      ]
     },
     "execution_count": 53,
     "metadata": {},
     "output_type": "execute_result"
    }
   ],
   "source": [
    "\n",
    "dfs_15k = DPget_csvs_from_subdirs_with_substring(\"/home/marco/Desktop/Learning-Synthesis/experiments/results/boolean_DP_2_k_over_boolean\")\n",
    "df_all_levels = pd.concat([pd.read_csv(dfs_15k[i]) for i in range(1,len(dfs_15k))])\n",
    "df_all_levels = df_all_levels[df_all_levels[\"expansion_budget_exceeded\"]==False]\n",
    "df_all_levels.shape\n"
   ]
  },
  {
   "cell_type": "code",
   "execution_count": 46,
   "metadata": {},
   "outputs": [
    {
     "name": "stdout",
     "output_type": "stream",
     "text": [
      "found  /home/marco/Desktop/Learning-Synthesis/experiments/results/components_by_state_DP_2_k_over_boolean/components_by_state_DP_2_12_over_boolean/15000_61.csv\n",
      "found  /home/marco/Desktop/Learning-Synthesis/experiments/results/components_by_state_DP_2_k_over_boolean/components_by_state_DP_2_5_over_boolean/15000_59.csv\n",
      "found  /home/marco/Desktop/Learning-Synthesis/experiments/results/components_by_state_DP_2_k_over_boolean/components_by_state_DP_2_1_over_boolean/15000_35.csv\n",
      "found  /home/marco/Desktop/Learning-Synthesis/experiments/results/components_by_state_DP_2_k_over_boolean/components_by_state_DP_2_11_over_boolean/15000_62.csv\n",
      "found  /home/marco/Desktop/Learning-Synthesis/experiments/results/components_by_state_DP_2_k_over_boolean/components_by_state_DP_2_2_over_boolean/15000_58.csv\n",
      "found  /home/marco/Desktop/Learning-Synthesis/experiments/results/components_by_state_DP_2_k_over_boolean/components_by_state_DP_2_13_over_boolean/15000_61.csv\n",
      "found  /home/marco/Desktop/Learning-Synthesis/experiments/results/components_by_state_DP_2_k_over_boolean/components_by_state_DP_2_3_over_boolean/15000_54.csv\n",
      "found  /home/marco/Desktop/Learning-Synthesis/experiments/results/components_by_state_DP_2_k_over_boolean/components_by_state_DP_2_9_over_boolean/15000_78.csv\n",
      "found  /home/marco/Desktop/Learning-Synthesis/experiments/results/components_by_state_DP_2_k_over_boolean/components_by_state_DP_2_7_over_boolean/15000_65.csv\n",
      "found  /home/marco/Desktop/Learning-Synthesis/experiments/results/components_by_state_DP_2_k_over_boolean/components_by_state_DP_2_6_over_boolean/15000_50.csv\n",
      "found  /home/marco/Desktop/Learning-Synthesis/experiments/results/components_by_state_DP_2_k_over_boolean/components_by_state_DP_2_14_over_boolean/15000_71.csv\n",
      "found  /home/marco/Desktop/Learning-Synthesis/experiments/results/components_by_state_DP_2_k_over_boolean/components_by_state_DP_2_10_over_boolean/15000_80.csv\n",
      "found  /home/marco/Desktop/Learning-Synthesis/experiments/results/components_by_state_DP_2_k_over_boolean/components_by_state_DP_2_4_over_boolean/15000_43.csv\n",
      "found  /home/marco/Desktop/Learning-Synthesis/experiments/results/components_by_state_DP_2_k_over_boolean/components_by_state_DP_2_8_over_boolean/15000_52.csv\n",
      "found  /home/marco/Desktop/Learning-Synthesis/experiments/results/components_by_state_DP_2_k_over_boolean/components_by_state_DP_2_15_over_boolean/15000_69.csv\n"
     ]
    },
    {
     "data": {
      "text/plain": [
       "(101, 20)"
      ]
     },
     "execution_count": 46,
     "metadata": {},
     "output_type": "execute_result"
    }
   ],
   "source": [
    "\n",
    "dfs_15k = DPget_csvs_from_subdirs_with_substring(\"/home/marco/Desktop/Learning-Synthesis/experiments/results/components_by_state_DP_2_k_over_boolean\")\n",
    "df_all_levels = pd.concat([pd.read_csv(dfs_15k[i]) for i in range(1,len(dfs_15k))])\n",
    "df_all_levels = df_all_levels[df_all_levels[\"expansion_budget_exceeded\"]==False]\n",
    "df_all_levels.shape"
   ]
  },
  {
   "cell_type": "code",
   "execution_count": 60,
   "metadata": {},
   "outputs": [
    {
     "name": "stdout",
     "output_type": "stream",
     "text": [
      "found  /home/marco/Desktop/Learning-Synthesis/experiments/results/COMPLETE_components_by_state_DP_2_k_over_boolean/COMPLETE_components_by_state_DP_2_6_over_boolean/15000_27.csv\n",
      "found  /home/marco/Desktop/Learning-Synthesis/experiments/results/COMPLETE_components_by_state_DP_2_k_over_boolean/COMPLETE_components_by_state_DP_2_2_over_boolean/15000_15.csv\n",
      "found  /home/marco/Desktop/Learning-Synthesis/experiments/results/COMPLETE_components_by_state_DP_2_k_over_boolean/COMPLETE_components_by_state_DP_2_5_over_boolean/15000_22.csv\n",
      "found  /home/marco/Desktop/Learning-Synthesis/experiments/results/COMPLETE_components_by_state_DP_2_k_over_boolean/COMPLETE_components_by_state_DP_2_14_over_boolean/15000_37.csv\n",
      "found  /home/marco/Desktop/Learning-Synthesis/experiments/results/COMPLETE_components_by_state_DP_2_k_over_boolean/COMPLETE_components_by_state_DP_2_10_over_boolean/15000_8.csv\n",
      "found  /home/marco/Desktop/Learning-Synthesis/experiments/results/COMPLETE_components_by_state_DP_2_k_over_boolean/COMPLETE_components_by_state_DP_2_3_over_boolean/15000_20.csv\n",
      "found  /home/marco/Desktop/Learning-Synthesis/experiments/results/COMPLETE_components_by_state_DP_2_k_over_boolean/COMPLETE_components_by_state_DP_2_11_over_boolean/15000_41.csv\n",
      "found  /home/marco/Desktop/Learning-Synthesis/experiments/results/COMPLETE_components_by_state_DP_2_k_over_boolean/COMPLETE_components_by_state_DP_2_13_over_boolean/15000_30.csv\n",
      "found  /home/marco/Desktop/Learning-Synthesis/experiments/results/COMPLETE_components_by_state_DP_2_k_over_boolean/COMPLETE_components_by_state_DP_2_7_over_boolean/15000_27.csv\n",
      "found  /home/marco/Desktop/Learning-Synthesis/experiments/results/COMPLETE_components_by_state_DP_2_k_over_boolean/COMPLETE_components_by_state_DP_2_9_over_boolean/15000_33.csv\n",
      "found  /home/marco/Desktop/Learning-Synthesis/experiments/results/COMPLETE_components_by_state_DP_2_k_over_boolean/COMPLETE_components_by_state_DP_2_8_over_boolean/15000_27.csv\n",
      "found  /home/marco/Desktop/Learning-Synthesis/experiments/results/COMPLETE_components_by_state_DP_2_k_over_boolean/COMPLETE_components_by_state_DP_2_1_over_boolean/15000_12.csv\n",
      "found  /home/marco/Desktop/Learning-Synthesis/experiments/results/COMPLETE_components_by_state_DP_2_k_over_boolean/COMPLETE_components_by_state_DP_2_4_over_boolean/15000_13.csv\n",
      "found  /home/marco/Desktop/Learning-Synthesis/experiments/results/COMPLETE_components_by_state_DP_2_k_over_boolean/COMPLETE_components_by_state_DP_2_12_over_boolean/15000_33.csv\n",
      "found  /home/marco/Desktop/Learning-Synthesis/experiments/results/COMPLETE_components_by_state_DP_2_k_over_boolean/COMPLETE_components_by_state_DP_2_15_over_boolean/15000_40.csv\n"
     ]
    },
    {
     "data": {
      "text/plain": [
       "(86, 20)"
      ]
     },
     "execution_count": 60,
     "metadata": {},
     "output_type": "execute_result"
    }
   ],
   "source": [
    "\n",
    "dfs_15k = DPget_csvs_from_subdirs_with_substring(\"/home/marco/Desktop/Learning-Synthesis/experiments/results/COMPLETE_components_by_state_DP_2_k_over_boolean\")\n",
    "df_all_levels = pd.concat([pd.read_csv(dfs_15k[i]) for i in range(1,len(dfs_15k))])\n",
    "df_all_levels = df_all_levels[df_all_levels[\"expansion_budget_exceeded\"]==False]\n",
    "df_all_levels.shape"
   ]
  },
  {
   "cell_type": "code",
   "execution_count": 56,
   "metadata": {},
   "outputs": [
    {
     "name": "stdout",
     "output_type": "stream",
     "text": [
      "found  /home/marco/Desktop/Learning-Synthesis/experiments/results/boolean/boolean_1/DP/all_15_15000_TO:10h.csv\n",
      "(58, 20)\n",
      "found  /home/marco/Desktop/Learning-Synthesis/experiments/results/boolean/boolean_2/DP/all_15_15000_TO:10h.csv\n",
      "(75, 20)\n",
      "found  /home/marco/Desktop/Learning-Synthesis/experiments/results/boolean/boolean_3/DP/all_15_15000_TO:10h.csv\n",
      "(75, 20)\n",
      "found  /home/marco/Desktop/Learning-Synthesis/experiments/results/boolean/boolean_4/DP/all_15_15000_TO:10h.csv\n",
      "(78, 20)\n",
      "found  /home/marco/Desktop/Learning-Synthesis/experiments/results/boolean/boolean_5/DP/all_15_15000_TO:10h.csv\n",
      "(89, 20)\n"
     ]
    }
   ],
   "source": [
    "for i in range(1,6):\n",
    "    dfs_15k = DPget_csvs_from_subdirs_with_substring(f\"/home/marco/Desktop/Learning-Synthesis/experiments/results/boolean/boolean_{i}\", substring = \"all_15_15000_TO:10h.csv\")\n",
    "    df_all_levels = pd.read_csv(dfs_15k[0])\n",
    "    df_all_levels = df_all_levels[df_all_levels[\"expansion_budget_exceeded\"]==False]\n",
    "    print(df_all_levels.shape)"
   ]
  },
  {
   "cell_type": "code",
   "execution_count": null,
   "metadata": {},
   "outputs": [],
   "source": []
  }
 ],
 "metadata": {
  "kernelspec": {
   "display_name": "Python 3",
   "language": "python",
   "name": "python3"
  },
  "language_info": {
   "codemirror_mode": {
    "name": "ipython",
    "version": 3
   },
   "file_extension": ".py",
   "mimetype": "text/x-python",
   "name": "python",
   "nbconvert_exporter": "python",
   "pygments_lexer": "ipython3",
   "version": "3.8.10"
  }
 },
 "nbformat": 4,
 "nbformat_minor": 4
}
