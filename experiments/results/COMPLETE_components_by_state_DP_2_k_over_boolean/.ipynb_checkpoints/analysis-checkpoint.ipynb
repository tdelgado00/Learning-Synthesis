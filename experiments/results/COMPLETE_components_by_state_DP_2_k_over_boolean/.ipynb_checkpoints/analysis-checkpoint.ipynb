{
 "cells": [
  {
   "cell_type": "code",
   "execution_count": null,
   "metadata": {},
   "outputs": [],
   "source": [
    "\"\"\"import os\n",
    "import pandas as pd\n",
    "def get_csvs_from_subdirs_with_substring(path, substring = \"15000\"):\n",
    "    result_dirs = []\n",
    "    for root, level_dirs, files in os.walk(path):\n",
    "        for file in files:\n",
    "            if(substring in file): print(root,level_dirs,file)\n",
    "                \n",
    "    return result_dirs\n",
    "\"\"\"\n",
    "\n",
    "\n",
    "import pdb\n",
    "import os\n",
    "import pandas as pd\n",
    "def get_csvs_from_subdirs_with_substring(path, substring = \"15000\"):\n",
    "    result_dirs = []\n",
    "    all_files = []\n",
    "    df_complete = pd.DataFrame()\n",
    "    for root, level_dirs, files in os.walk(path):\n",
    "        for file in files:\n",
    "            all_files.append(file)\n",
    "            \"\"\"if(substring in file): \n",
    "                if(not len(result_dirs)): \n",
    "                    df_complete = pd.read_csv(root + \"/\"+file)\n",
    "                    result_dirs.append(file)\n",
    "                \n",
    "                else:\n",
    "                    result_dirs.append(file)\n",
    "                    breakpoint()\n",
    "                    df_complete = df_complete.merge(pd.read_csv(root + \"/\"+file))\n",
    "\"\"\"\n",
    "    return all_files"
   ]
  },
  {
   "cell_type": "code",
   "execution_count": null,
   "metadata": {},
   "outputs": [],
   "source": [
    "get_csvs_from_subdirs_with_substring(\"/home/marco/Desktop/Learning-Synthesis/experiments/results/COMPLETE_components_by_state_DP_2_k_over_boolean\")"
   ]
  },
  {
   "cell_type": "code",
   "execution_count": 7,
   "metadata": {},
   "outputs": [
    {
     "data": {
      "text/plain": [
       "<generator object walk at 0x7f15e003ec80>"
      ]
     },
     "execution_count": 7,
     "metadata": {},
     "output_type": "execute_result"
    }
   ],
   "source": []
  },
  {
   "cell_type": "code",
   "execution_count": null,
   "metadata": {},
   "outputs": [],
   "source": []
  }
 ],
 "metadata": {
  "kernelspec": {
   "display_name": "Python 3",
   "language": "python",
   "name": "python3"
  },
  "language_info": {
   "codemirror_mode": {
    "name": "ipython",
    "version": 3
   },
   "file_extension": ".py",
   "mimetype": "text/x-python",
   "name": "python",
   "nbconvert_exporter": "python",
   "pygments_lexer": "ipython3",
   "version": "3.8.10"
  }
 },
 "nbformat": 4,
 "nbformat_minor": 4
}
